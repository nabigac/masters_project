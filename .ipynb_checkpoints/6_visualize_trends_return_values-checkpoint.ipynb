{
 "cells": [
  {
   "cell_type": "markdown",
   "id": "d1b599c1-0e8e-463c-8f5b-5912c40c68df",
   "metadata": {},
   "source": [
    "# Visualize Trends in Return Values for a 1-in-10-year Event\n",
    "---\n",
    "**Project**: Masters Project <br>\n",
    "**Author**: Nabig Chaudhry"
   ]
  },
  {
   "cell_type": "code",
   "execution_count": null,
   "id": "de29e8a2-6f90-408b-b542-077a1169afa4",
   "metadata": {},
   "outputs": [],
   "source": [
    "# import necessary packages\n",
    "\n",
    "import requests \n",
    "import numpy as np\n",
    "import pandas as pd\n",
    "import xarray as xr\n",
    "from datetime import datetime\n",
    "import os as os\n",
    "from scipy import stats\n",
    "import statsmodels.api as sm\n",
    "\n",
    "import lmoments3 as lm\n",
    "from lmoments3 import distr as ldistr\n",
    "\n",
    "import matplotlib.pyplot as plt\n",
    "from matplotlib import colors\n",
    "%matplotlib inline\n",
    "import cartopy.crs as ccrs\n",
    "import cartopy.feature as cfeature\n",
    "import geoviews as gv\n",
    "import holoviews as hv\n",
    "import hvplot.pandas\n",
    "import hvplot.xarray\n",
    "from bokeh.io import export_svgs"
   ]
  },
  {
   "cell_type": "code",
   "execution_count": null,
   "id": "788e61fc-eb3b-4e8e-835e-bc147bb3ca39",
   "metadata": {},
   "outputs": [],
   "source": [
    "# import functions specifically for masters_project\n",
    "\n",
    "%load_ext autoreload\n",
    "%autoreload 2\n",
    "\n",
    "import masters_project_functions as mp"
   ]
  },
  {
   "cell_type": "markdown",
   "id": "ec00ecfc-915b-4777-90bb-5805ffcd88a8",
   "metadata": {},
   "source": [
    "## Step 1: Pull Final Return Value Data For Analysis"
   ]
  },
  {
   "cell_type": "code",
   "execution_count": null,
   "id": "9c370369-dd36-49b2-ac5f-970a0c5b3cbe",
   "metadata": {},
   "outputs": [],
   "source": [
    "os.listdir('./data/final_for_analysis/return_value')"
   ]
  },
  {
   "cell_type": "code",
   "execution_count": null,
   "id": "95cc523e-2891-4349-8f40-efac5338492f",
   "metadata": {},
   "outputs": [],
   "source": [
    "import_path = './data/final_for_analysis/return_value'"
   ]
  },
  {
   "cell_type": "code",
   "execution_count": null,
   "id": "2f654fba-a11c-4aee-9e58-ad6b4b824cff",
   "metadata": {},
   "outputs": [],
   "source": [
    "cesm2_hist_1980_rv = xr.open_dataset(f'{import_path}/cesm2_hist_1980_rv.nc')\n",
    "cesm2_ssp370_2020_rv = xr.open_dataset(f'{import_path}/cesm2_ssp370_2020_rv.nc')\n",
    "cesm2_ssp370_2040_rv = xr.open_dataset(f'{import_path}/cesm2_ssp370_2040_rv.nc')\n",
    "cesm2_ssp370_2060_rv = xr.open_dataset(f'{import_path}/cesm2_ssp370_2060_rv.nc')\n",
    "cesm2_ssp370_2080_rv = xr.open_dataset(f'{import_path}/cesm2_ssp370_2080_rv.nc')\n",
    "\n",
    "cnrm_hist_1980_rv = xr.open_dataset(f'{import_path}/cnrm_hist_1980_rv.nc')\n",
    "cnrm_ssp370_2020_rv = xr.open_dataset(f'{import_path}/cnrm_ssp370_2020_rv.nc')\n",
    "cnrm_ssp370_2040_rv = xr.open_dataset(f'{import_path}/cnrm_ssp370_2040_rv.nc')\n",
    "cnrm_ssp370_2060_rv = xr.open_dataset(f'{import_path}/cnrm_ssp370_2060_rv.nc')\n",
    "cnrm_ssp370_2080_rv = xr.open_dataset(f'{import_path}/cnrm_ssp370_2080_rv.nc')"
   ]
  },
  {
   "cell_type": "markdown",
   "id": "c7e3d094-7e61-4634-911b-ce4e7ce6bb6d",
   "metadata": {},
   "source": [
    "## Step 2: Pull Return Value Arrays for CESM2 Global Climate Model"
   ]
  },
  {
   "cell_type": "code",
   "execution_count": null,
   "id": "1711facc-778b-4c1d-aca5-a2f058fe9345",
   "metadata": {},
   "outputs": [],
   "source": [
    "cesm2_hist_1980_rv_array = mp.get_flat_array(cesm2_hist_1980_rv, \n",
    "                                             data_variable='return_value')\n",
    "\n",
    "cesm2_hist_1980_rv_lower_array = mp.get_flat_array(cesm2_hist_1980_rv, \n",
    "                                             data_variable='conf_int_lower_limit')\n",
    "\n",
    "cesm2_hist_1980_rv_upper_array = mp.get_flat_array(cesm2_hist_1980_rv, \n",
    "                                             data_variable='conf_int_upper_limit')"
   ]
  },
  {
   "cell_type": "code",
   "execution_count": null,
   "id": "e2107749-fe63-40c5-baa4-2d4562d3e12a",
   "metadata": {},
   "outputs": [],
   "source": [
    "# create dataframe of return value and associated confidence interval\n",
    "\n",
    "cesm2_hist_1980_df = pd.DataFrame({'return_value': cesm2_hist_1980_rv_array, \n",
    "                                   'return_value_lower': cesm2_hist_1980_rv_lower_array,\n",
    "                                   'return_value_upper': cesm2_hist_1980_rv_upper_array})"
   ]
  },
  {
   "cell_type": "code",
   "execution_count": null,
   "id": "7736fa98-b5cc-49f9-a698-ce7519c7b3a4",
   "metadata": {},
   "outputs": [],
   "source": [
    "cesm2_ssp370_2020_rv_array = mp.get_flat_array(cesm2_ssp370_2020_rv, \n",
    "                                             data_variable='return_value')\n",
    "\n",
    "cesm2_ssp370_2020_rv_lower_array = mp.get_flat_array(cesm2_ssp370_2020_rv, \n",
    "                                             data_variable='conf_int_lower_limit')\n",
    "\n",
    "cesm2_ssp370_2020_rv_upper_array = mp.get_flat_array(cesm2_ssp370_2020_rv, \n",
    "                                             data_variable='conf_int_upper_limit')"
   ]
  },
  {
   "cell_type": "code",
   "execution_count": null,
   "id": "02a1644a-3867-49c4-b0d7-296d0ea75179",
   "metadata": {},
   "outputs": [],
   "source": [
    "# create dataframe of return value and associated confidence interval\n",
    "\n",
    "cesm2_ssp370_2020_df = pd.DataFrame({'return_value': cesm2_ssp370_2020_rv_array, \n",
    "                                     'return_value_lower': cesm2_ssp370_2020_rv_lower_array,\n",
    "                                     'return_value_upper': cesm2_ssp370_2020_rv_upper_array})"
   ]
  },
  {
   "cell_type": "code",
   "execution_count": null,
   "id": "9db90cfb-fa22-44f9-8515-2ec28bcb2b00",
   "metadata": {},
   "outputs": [],
   "source": [
    "cesm2_ssp370_2040_rv_array = mp.get_flat_array(cesm2_ssp370_2040_rv, \n",
    "                                             data_variable='return_value')\n",
    "\n",
    "cesm2_ssp370_2040_rv_lower_array = mp.get_flat_array(cesm2_ssp370_2040_rv, \n",
    "                                             data_variable='conf_int_lower_limit')\n",
    "\n",
    "cesm2_ssp370_2040_rv_upper_array = mp.get_flat_array(cesm2_ssp370_2040_rv, \n",
    "                                             data_variable='conf_int_upper_limit')"
   ]
  },
  {
   "cell_type": "code",
   "execution_count": null,
   "id": "63fb3c41-18c9-40b5-8491-fd133b28f890",
   "metadata": {},
   "outputs": [],
   "source": [
    "# create dataframe of return value and associated confidence interval\n",
    "\n",
    "cesm2_ssp370_2040_df = pd.DataFrame({'return_value': cesm2_ssp370_2040_rv_array, \n",
    "                                     'return_value_lower': cesm2_ssp370_2040_rv_lower_array,\n",
    "                                     'return_value_upper': cesm2_ssp370_2040_rv_upper_array})"
   ]
  },
  {
   "cell_type": "code",
   "execution_count": null,
   "id": "6230e812-e29c-4e19-aea2-94653e51fc66",
   "metadata": {},
   "outputs": [],
   "source": [
    "cesm2_ssp370_2060_rv_array = mp.get_flat_array(cesm2_ssp370_2060_rv, \n",
    "                                             data_variable='return_value')\n",
    "\n",
    "cesm2_ssp370_2060_rv_lower_array = mp.get_flat_array(cesm2_ssp370_2060_rv, \n",
    "                                             data_variable='conf_int_lower_limit')\n",
    "\n",
    "cesm2_ssp370_2060_rv_upper_array = mp.get_flat_array(cesm2_ssp370_2060_rv, \n",
    "                                             data_variable='conf_int_upper_limit')"
   ]
  },
  {
   "cell_type": "code",
   "execution_count": null,
   "id": "78677b2c-f594-4559-b186-f95034c358ec",
   "metadata": {},
   "outputs": [],
   "source": [
    "# create dataframe of return value and associated confidence interval\n",
    "\n",
    "cesm2_ssp370_2060_df = pd.DataFrame({'return_value': cesm2_ssp370_2060_rv_array, \n",
    "                                     'return_value_lower': cesm2_ssp370_2060_rv_lower_array,\n",
    "                                     'return_value_upper': cesm2_ssp370_2060_rv_upper_array})"
   ]
  },
  {
   "cell_type": "code",
   "execution_count": null,
   "id": "1a7848e1-695a-4573-a5d7-b1a5f4f74b7d",
   "metadata": {},
   "outputs": [],
   "source": [
    "cesm2_ssp370_2080_rv_array = mp.get_flat_array(cesm2_ssp370_2080_rv, \n",
    "                                             data_variable='return_value')\n",
    "\n",
    "cesm2_ssp370_2080_rv_lower_array = mp.get_flat_array(cesm2_ssp370_2080_rv, \n",
    "                                             data_variable='conf_int_lower_limit')\n",
    "\n",
    "cesm2_ssp370_2080_rv_upper_array = mp.get_flat_array(cesm2_ssp370_2080_rv, \n",
    "                                             data_variable='conf_int_upper_limit')"
   ]
  },
  {
   "cell_type": "code",
   "execution_count": null,
   "id": "b05822cc-0c54-4fc5-9532-75e348e7db40",
   "metadata": {},
   "outputs": [],
   "source": [
    "# create dataframe of return value and associated confidence interval\n",
    "\n",
    "cesm2_ssp370_2080_df = pd.DataFrame({'return_value': cesm2_ssp370_2080_rv_array, \n",
    "                                     'return_value_lower': cesm2_ssp370_2080_rv_lower_array,\n",
    "                                     'return_value_upper': cesm2_ssp370_2080_rv_upper_array})"
   ]
  },
  {
   "cell_type": "code",
   "execution_count": null,
   "id": "2d87b1df-4eeb-4d5f-b3db-9d4422ff2757",
   "metadata": {},
   "outputs": [],
   "source": [
    "# create dataframe from all return value arrays\n",
    "\n",
    "cesm2_rv_df = pd.DataFrame({'cesm2_hist_1980': cesm2_hist_1980_rv_array, \n",
    "                            'cesm2_ssp370_2020': cesm2_ssp370_2020_rv_array,\n",
    "                            'cesm2_ssp370_2040': cesm2_ssp370_2040_rv_array,\n",
    "                            'cesm2_ssp370_2060': cesm2_ssp370_2060_rv_array,\n",
    "                            'cesm2_ssp370_2080': cesm2_ssp370_2080_rv_array})"
   ]
  },
  {
   "cell_type": "markdown",
   "id": "f865dcf7-c788-46f7-87b6-ec283a9d80e6",
   "metadata": {},
   "source": [
    "## Step 3: Pull Return Value Arrays for CNRM-ESM2-1 Global Climate Model"
   ]
  },
  {
   "cell_type": "code",
   "execution_count": null,
   "id": "81492b29-0d0a-4de6-a91e-5ec99fb57669",
   "metadata": {},
   "outputs": [],
   "source": [
    "cnrm_hist_1980_rv_array = mp.get_flat_array(cnrm_hist_1980_rv, \n",
    "                                             data_variable='return_value')\n",
    "\n",
    "cnrm_hist_1980_rv_lower_array = mp.get_flat_array(cnrm_hist_1980_rv, \n",
    "                                             data_variable='conf_int_lower_limit')\n",
    "\n",
    "cnrm_hist_1980_rv_upper_array = mp.get_flat_array(cnrm_hist_1980_rv, \n",
    "                                             data_variable='conf_int_upper_limit')"
   ]
  },
  {
   "cell_type": "code",
   "execution_count": null,
   "id": "e893e09a-7f1b-4b2a-9fd4-22cc6fcd957f",
   "metadata": {},
   "outputs": [],
   "source": [
    "# create dataframe of return value and associated confidence interval\n",
    "\n",
    "cnrm_hist_1980_df = pd.DataFrame({'return_value': cnrm_hist_1980_rv_array, \n",
    "                                  'return_value_lower': cnrm_hist_1980_rv_lower_array,\n",
    "                                  'return_value_upper': cnrm_hist_1980_rv_upper_array})"
   ]
  },
  {
   "cell_type": "code",
   "execution_count": null,
   "id": "5c40b541-a962-40da-84a9-4c3fd7a838a3",
   "metadata": {},
   "outputs": [],
   "source": [
    "cnrm_ssp370_2020_rv_array = mp.get_flat_array(cnrm_ssp370_2020_rv, \n",
    "                                             data_variable='return_value')\n",
    "\n",
    "cnrm_ssp370_2020_rv_lower_array = mp.get_flat_array(cnrm_ssp370_2020_rv, \n",
    "                                             data_variable='conf_int_lower_limit')\n",
    "\n",
    "cnrm_ssp370_2020_rv_upper_array = mp.get_flat_array(cnrm_ssp370_2020_rv, \n",
    "                                             data_variable='conf_int_upper_limit')"
   ]
  },
  {
   "cell_type": "code",
   "execution_count": null,
   "id": "bf0c4d46-b69c-42fb-9e8f-6e2cfa72b752",
   "metadata": {},
   "outputs": [],
   "source": [
    "# create dataframe of return value and associated confidence interval\n",
    "\n",
    "cnrm_ssp370_2020_df = pd.DataFrame({'return_value': cnrm_ssp370_2020_rv_array, \n",
    "                                    'return_value_lower': cnrm_ssp370_2020_rv_lower_array,\n",
    "                                    'return_value_upper': cnrm_ssp370_2020_rv_upper_array})"
   ]
  },
  {
   "cell_type": "code",
   "execution_count": null,
   "id": "4b675bb4-789a-4b53-befc-a5f70550b595",
   "metadata": {},
   "outputs": [],
   "source": [
    "cnrm_ssp370_2040_rv_array = mp.get_flat_array(cnrm_ssp370_2040_rv, \n",
    "                                             data_variable='return_value')\n",
    "\n",
    "cnrm_ssp370_2040_rv_lower_array = mp.get_flat_array(cnrm_ssp370_2040_rv, \n",
    "                                             data_variable='conf_int_lower_limit')\n",
    "\n",
    "cnrm_ssp370_2040_rv_upper_array = mp.get_flat_array(cnrm_ssp370_2040_rv, \n",
    "                                             data_variable='conf_int_upper_limit')"
   ]
  },
  {
   "cell_type": "code",
   "execution_count": null,
   "id": "468a1c12-40e0-4092-b348-ada961c71920",
   "metadata": {},
   "outputs": [],
   "source": [
    "# create dataframe of return value and associated confidence interval\n",
    "\n",
    "cnrm_ssp370_2040_df = pd.DataFrame({'return_value': cnrm_ssp370_2040_rv_array, \n",
    "                                    'return_value_lower': cnrm_ssp370_2040_rv_lower_array,\n",
    "                                    'return_value_upper': cnrm_ssp370_2040_rv_upper_array})"
   ]
  },
  {
   "cell_type": "code",
   "execution_count": null,
   "id": "b8599fd9-ed07-404b-88e0-b21b05cf16a8",
   "metadata": {},
   "outputs": [],
   "source": [
    "cnrm_ssp370_2060_rv_array = mp.get_flat_array(cnrm_ssp370_2060_rv, \n",
    "                                             data_variable='return_value')\n",
    "\n",
    "cnrm_ssp370_2060_rv_lower_array = mp.get_flat_array(cnrm_ssp370_2060_rv, \n",
    "                                             data_variable='conf_int_lower_limit')\n",
    "\n",
    "cnrm_ssp370_2060_rv_upper_array = mp.get_flat_array(cnrm_ssp370_2060_rv, \n",
    "                                             data_variable='conf_int_upper_limit')"
   ]
  },
  {
   "cell_type": "code",
   "execution_count": null,
   "id": "0bed7139-ab17-4fb9-9735-bdff0b3c8132",
   "metadata": {},
   "outputs": [],
   "source": [
    "# create dataframe of return value and associated confidence interval\n",
    "\n",
    "cnrm_ssp370_2060_df = pd.DataFrame({'return_value': cnrm_ssp370_2060_rv_array, \n",
    "                                    'return_value_lower': cnrm_ssp370_2060_rv_lower_array,\n",
    "                                    'return_value_upper': cnrm_ssp370_2060_rv_upper_array})"
   ]
  },
  {
   "cell_type": "code",
   "execution_count": null,
   "id": "1d0e1305-461d-4da5-b441-b7c7b9e5aa55",
   "metadata": {},
   "outputs": [],
   "source": [
    "cnrm_ssp370_2080_rv_array = mp.get_flat_array(cnrm_ssp370_2080_rv, \n",
    "                                             data_variable='return_value')\n",
    "\n",
    "cnrm_ssp370_2080_rv_lower_array = mp.get_flat_array(cnrm_ssp370_2080_rv, \n",
    "                                             data_variable='conf_int_lower_limit')\n",
    "\n",
    "cnrm_ssp370_2080_rv_upper_array = mp.get_flat_array(cnrm_ssp370_2080_rv, \n",
    "                                             data_variable='conf_int_upper_limit')"
   ]
  },
  {
   "cell_type": "code",
   "execution_count": null,
   "id": "092d0fdd-36f3-4c8a-8419-7d08203ec659",
   "metadata": {},
   "outputs": [],
   "source": [
    "# create dataframe of return value and associated confidence interval\n",
    "\n",
    "cnrm_ssp370_2080_df = pd.DataFrame({'return_value': cnrm_ssp370_2080_rv_array, \n",
    "                                    'return_value_lower': cnrm_ssp370_2080_rv_lower_array,\n",
    "                                    'return_value_upper': cnrm_ssp370_2080_rv_upper_array})"
   ]
  },
  {
   "cell_type": "code",
   "execution_count": null,
   "id": "dc20bf34-26ca-43ea-a71b-c9fcfd117ff1",
   "metadata": {},
   "outputs": [],
   "source": [
    "# create dataframe from all return value arrays\n",
    "\n",
    "cnrm_rv_df = pd.DataFrame({'cnrm_hist_1980': cnrm_hist_1980_rv_array, \n",
    "                            'cnrm_ssp370_2020': cnrm_ssp370_2020_rv_array,\n",
    "                            'cnrm_ssp370_2040': cnrm_ssp370_2040_rv_array,\n",
    "                            'cnrm_ssp370_2060': cnrm_ssp370_2060_rv_array,\n",
    "                            'cnrm_ssp370_2080': cnrm_ssp370_2080_rv_array})"
   ]
  },
  {
   "cell_type": "markdown",
   "id": "b2312b02-dc39-4b07-94e2-2d8069a553ac",
   "metadata": {},
   "source": [
    "## Step 4: Set Graphing Parameters for Box Plots"
   ]
  },
  {
   "cell_type": "code",
   "execution_count": null,
   "id": "4d820463-25b7-4169-8b7f-cc55684eeea6",
   "metadata": {
    "tags": []
   },
   "outputs": [],
   "source": [
    "box_fill_color = '#fda847'\n",
    "box_hover_color = 'blue'\n",
    "y_axis_min=10\n",
    "y_axis_max=60\n",
    "width=650\n",
    "height=400\n",
    "\n",
    "columns = ['Historical 1980-99',\n",
    "          'SSP3-7.0 2020-39',\n",
    "          'SSP3-7.0 2040-59',\n",
    "          'SSP3-7.0 2060-79',\n",
    "          'SSP3-7.0 2080-99']\n",
    "\n",
    "group_label='Time Periods'\n",
    "value_label='Return Value (Degrees C)'"
   ]
  },
  {
   "cell_type": "markdown",
   "id": "d9d26200-7a80-4382-8341-86d3c81e83b4",
   "metadata": {},
   "source": [
    "## Step 5: Visualize Trends and Return Value Data Through Box Plots"
   ]
  },
  {
   "cell_type": "code",
   "execution_count": null,
   "id": "b0448ae2-045c-4d5e-bbfe-a7dbde952ca2",
   "metadata": {
    "tags": []
   },
   "outputs": [],
   "source": [
    "df = cesm2_rv_df.rename(columns={'cesm2_hist_1980':'Historical 1980-99', \n",
    "                                'cesm2_ssp370_2020':'SSP3-7.0 2020-39', \n",
    "                                'cesm2_ssp370_2040':'SSP3-7.0 2040-59',\n",
    "                                'cesm2_ssp370_2060':'SSP3-7.0 2060-79',\n",
    "                                'cesm2_ssp370_2080':'SSP3-7.0 2080-99'})\n",
    "\n",
    "title = 'CESM2 Return Values (Degrees C) for 1-in-10-year Event'\n",
    "\n",
    "cesm2_box_plot = df.hvplot.box(y=columns,\n",
    "                               ylim=(y_axis_min, y_axis_max),\n",
    "                               width=width,\n",
    "                               height=height,\n",
    "                               title=title,\n",
    "                               box_fill_color=box_fill_color,\n",
    "                               box_hover_color=box_hover_color,\n",
    "                               group_label=group_label,\n",
    "                               value_label=value_label)\n",
    "cesm2_box_plot"
   ]
  },
  {
   "cell_type": "code",
   "execution_count": null,
   "id": "96135492-60f3-41d0-95dd-cddc7045588d",
   "metadata": {},
   "outputs": [],
   "source": [
    "df = cnrm_rv_df.rename(columns={'cnrm_hist_1980':'Historical 1980-99', \n",
    "                                'cnrm_ssp370_2020':'SSP3-7.0 2020-39', \n",
    "                                'cnrm_ssp370_2040':'SSP3-7.0 2040-59',\n",
    "                                'cnrm_ssp370_2060':'SSP3-7.0 2060-79',\n",
    "                                'cnrm_ssp370_2080':'SSP3-7.0 2080-99'})\n",
    "\n",
    "title = 'CNRM-ESM2-1 Return Values (Degrees C) for 1-in-10-year Event'\n",
    "\n",
    "cnrm_box_plot = df.hvplot.box(y=columns,\n",
    "                              ylim=(y_axis_min, y_axis_max),\n",
    "                              width=width,\n",
    "                              height=height,\n",
    "                              title=title,\n",
    "                              box_fill_color=box_fill_color,\n",
    "                              box_hover_color=box_hover_color,\n",
    "                              group_label=group_label,\n",
    "                              value_label=value_label)\n",
    "cnrm_box_plot"
   ]
  },
  {
   "cell_type": "markdown",
   "id": "2682b081-c6d5-4303-a3cf-98d2ae1fc3f9",
   "metadata": {},
   "source": [
    "## Step 6: Set Graphing Parameters for Line Plots"
   ]
  },
  {
   "cell_type": "code",
   "execution_count": null,
   "id": "47daed20-0e75-4ced-a151-c6bae2f04aa0",
   "metadata": {},
   "outputs": [],
   "source": [
    "color_1 = '#fede81'\n",
    "color_2 = '#fda847'\n",
    "color_3 = '#fc5d2e'\n",
    "color_4 = '#ee3123'\n",
    "color_5 = '#900026'\n",
    "\n",
    "y_axis_min=10\n",
    "y_axis_max=60\n",
    "width=850\n",
    "height=450\n",
    "\n",
    "label_1 = 'Historical 1980-99'\n",
    "label_2 = 'SSP3-7.0 2020-39'\n",
    "label_3 = 'SSP3-7.0 2040-59'\n",
    "label_4 = 'SSP3-7.0 2060-79'\n",
    "label_5 = 'SSP3-7.0 2080-99'\n",
    "\n",
    "x_label='Index of Least to Greatest Return Values'\n",
    "y_label='Return Value (Degrees C)'"
   ]
  },
  {
   "cell_type": "markdown",
   "id": "84fd62eb-eb60-4385-803b-990915e3979c",
   "metadata": {},
   "source": [
    "## Step 7: Visualize Trends and Return Value Data Through Line Plots"
   ]
  },
  {
   "cell_type": "code",
   "execution_count": null,
   "id": "e79d0180-8919-4dba-8170-07df113c9bb6",
   "metadata": {},
   "outputs": [],
   "source": [
    "# sort return value dataframes from low to high\n",
    "\n",
    "cesm2_hist_1980_sorted = cesm2_hist_1980_df.sort_values('return_value').reset_index(drop=True)\n",
    "cesm2_ssp370_2020_sorted = cesm2_ssp370_2020_df.sort_values('return_value').reset_index(drop=True)\n",
    "cesm2_ssp370_2040_sorted = cesm2_ssp370_2040_df.sort_values('return_value').reset_index(drop=True)\n",
    "cesm2_ssp370_2060_sorted = cesm2_ssp370_2060_df.sort_values('return_value').reset_index(drop=True)\n",
    "cesm2_ssp370_2080_sorted = cesm2_ssp370_2080_df.sort_values('return_value').reset_index(drop=True)\n",
    "\n",
    "cnrm_hist_1980_sorted = cnrm_hist_1980_df.sort_values('return_value').reset_index(drop=True)\n",
    "cnrm_ssp370_2020_sorted = cnrm_ssp370_2020_df.sort_values('return_value').reset_index(drop=True)\n",
    "cnrm_ssp370_2040_sorted = cnrm_ssp370_2040_df.sort_values('return_value').reset_index(drop=True)\n",
    "cnrm_ssp370_2060_sorted = cnrm_ssp370_2060_df.sort_values('return_value').reset_index(drop=True)\n",
    "cnrm_ssp370_2080_sorted = cnrm_ssp370_2080_df.sort_values('return_value').reset_index(drop=True)"
   ]
  },
  {
   "cell_type": "code",
   "execution_count": null,
   "id": "47635115-ee15-4ba5-9fe8-4c30ad9a8611",
   "metadata": {},
   "outputs": [],
   "source": [
    "title = 'CESM2 Return Values (Degrees C) for 1-in-10-year Event'\n",
    "\n",
    "hv_line = cesm2_hist_1980_sorted.hvplot.line(y='return_value',\n",
    "                                              ylim=(y_axis_min, y_axis_max),\n",
    "                                              width=width,\n",
    "                                              height=height,\n",
    "                                              title=title,\n",
    "                                              xlabel=x_label, \n",
    "                                              ylabel=y_label,\n",
    "                                              label=label_1).opts(color=color_1) * \\\n",
    "cesm2_ssp370_2020_sorted.hvplot.line(y='return_value',\n",
    "                                    label=label_2).opts(color=color_2) * \\\n",
    "cesm2_ssp370_2040_sorted.hvplot.line(y='return_value',\n",
    "                                    label=label_3).opts(color=color_3) * \\\n",
    "cesm2_ssp370_2060_sorted.hvplot.line(y='return_value',\n",
    "                                    label=label_4).opts(color=color_4) * \\\n",
    "cesm2_ssp370_2080_sorted.hvplot.line(y='return_value',\n",
    "                                    label=label_5).opts(color=color_5) * \\\n",
    "cesm2_hist_1980_sorted.hvplot.area(y='return_value_lower', \n",
    "                                   y2='return_value_upper',\n",
    "                                   line_color=color_2,\n",
    "                                   alpha=0.15).opts(color=color_2) * \\\n",
    "cesm2_ssp370_2020_sorted.hvplot.area(y='return_value_lower', \n",
    "                                   y2='return_value_upper',\n",
    "                                   line_color=color_2,\n",
    "                                   alpha=0.15).opts(color=color_2) * \\\n",
    "cesm2_ssp370_2040_sorted.hvplot.area(y='return_value_lower', \n",
    "                                   y2='return_value_upper',\n",
    "                                   line_color=color_3,\n",
    "                                   alpha=0.15).opts(color=color_3) * \\\n",
    "cesm2_ssp370_2060_sorted.hvplot.area(y='return_value_lower', \n",
    "                                   y2='return_value_upper',\n",
    "                                   line_color=color_4,\n",
    "                                   alpha=0.15).opts(color=color_4) * \\\n",
    "cesm2_ssp370_2080_sorted.hvplot.area(y='return_value_lower', \n",
    "                                   y2='return_value_upper',\n",
    "                                   line_color=color_5,\n",
    "                                   alpha=0.15).opts(color=color_5)\n",
    "\n",
    "cesm2_line_plot = hv_line.opts(legend_position='right')\n",
    "cesm2_line_plot"
   ]
  },
  {
   "cell_type": "code",
   "execution_count": null,
   "id": "724c0f8d-0f20-4b14-b1af-6967abbf2f81",
   "metadata": {},
   "outputs": [],
   "source": [
    "title = 'CNRM-ESM2-1 Return Values (Degrees C) for 1-in-10-year Event'\n",
    "\n",
    "hv_line = cnrm_hist_1980_sorted.hvplot.line(y='return_value',\n",
    "                                              ylim=(y_axis_min, y_axis_max),\n",
    "                                              width=width,\n",
    "                                              height=height,\n",
    "                                              title=title,\n",
    "                                              xlabel=x_label, \n",
    "                                              ylabel=y_label,\n",
    "                                              label=label_1).opts(color=color_1) * \\\n",
    "cnrm_ssp370_2020_sorted.hvplot.line(y='return_value',\n",
    "                                    label=label_2).opts(color=color_2) * \\\n",
    "cnrm_ssp370_2040_sorted.hvplot.line(y='return_value',\n",
    "                                    label=label_3).opts(color=color_3) * \\\n",
    "cnrm_ssp370_2060_sorted.hvplot.line(y='return_value',\n",
    "                                    label=label_4).opts(color=color_4) * \\\n",
    "cnrm_ssp370_2080_sorted.hvplot.line(y='return_value',\n",
    "                                    label=label_5).opts(color=color_5) * \\\n",
    "cnrm_hist_1980_sorted.hvplot.area(y='return_value_lower', \n",
    "                                   y2='return_value_upper',\n",
    "                                   line_color=color_2,\n",
    "                                   alpha=0.15).opts(color=color_2) * \\\n",
    "cnrm_ssp370_2020_sorted.hvplot.area(y='return_value_lower', \n",
    "                                   y2='return_value_upper',\n",
    "                                   line_color=color_2,\n",
    "                                   alpha=0.15).opts(color=color_2) * \\\n",
    "cnrm_ssp370_2040_sorted.hvplot.area(y='return_value_lower', \n",
    "                                   y2='return_value_upper',\n",
    "                                   line_color=color_3,\n",
    "                                   alpha=0.15).opts(color=color_3) * \\\n",
    "cnrm_ssp370_2060_sorted.hvplot.area(y='return_value_lower', \n",
    "                                   y2='return_value_upper',\n",
    "                                   line_color=color_4,\n",
    "                                   alpha=0.15).opts(color=color_4) * \\\n",
    "cnrm_ssp370_2080_sorted.hvplot.area(y='return_value_lower', \n",
    "                                   y2='return_value_upper',\n",
    "                                   line_color=color_5,\n",
    "                                   alpha=0.15).opts(color=color_5)\n",
    "\n",
    "cnrm_line_plot = hv_line.opts(legend_position='right')\n",
    "cnrm_line_plot"
   ]
  },
  {
   "cell_type": "markdown",
   "id": "2d17ceeb-79d7-435b-86dd-a0f7260c0e89",
   "metadata": {},
   "source": [
    "## Step 8: Export Return Value Trend Visualizations"
   ]
  },
  {
   "cell_type": "code",
   "execution_count": null,
   "id": "825d6c56-b854-4bad-9fe4-e62cd229f25f",
   "metadata": {},
   "outputs": [],
   "source": [
    "export_int_image_path = './images/interactive/return_value'\n",
    "export_stat_image_path = './images/static/return_value'"
   ]
  },
  {
   "cell_type": "code",
   "execution_count": null,
   "id": "c39cfce7-0c90-4b59-85bb-5841fbb3124b",
   "metadata": {
    "tags": []
   },
   "outputs": [],
   "source": [
    "# export visualizations as interactive html images\n",
    "\n",
    "hv.save(cesm2_line_plot, f'{export_int_image_path}/cesm2_line_plot.html')\n",
    "hv.save(cnrm_line_plot, f'{export_int_image_path}/cnrm_line_plot.html')"
   ]
  },
  {
   "cell_type": "code",
   "execution_count": null,
   "id": "bf7ea4e5-defa-48ee-a5d5-a03784efbf41",
   "metadata": {},
   "outputs": [],
   "source": [
    "# define function to export visualizations as static svg files\n",
    "\n",
    "def export_svg(obj, filename):\n",
    "    plot_state = hv.renderer('bokeh').get_plot(obj).state\n",
    "    plot_state.output_backend = 'svg'\n",
    "    export_svgs(plot_state, filename=filename)"
   ]
  },
  {
   "cell_type": "code",
   "execution_count": null,
   "id": "7463b1cf-81ea-42bb-adf7-43768c979112",
   "metadata": {},
   "outputs": [],
   "source": [
    "# export visualizations as static svg images\n",
    "\n",
    "export_svg(cesm2_box_plot, f'{export_stat_image_path}/cesm2_box_plot.svg')\n",
    "export_svg(cnrm_box_plot, f'{export_stat_image_path}/cnrm_box_plot.svg')\n",
    "\n",
    "export_svg(cesm2_line_plot, f'{export_stat_image_path}/cesm2_line_plot.svg')\n",
    "export_svg(cnrm_line_plot, f'{export_stat_image_path}/cnrm_line_plot.svg')"
   ]
  },
  {
   "cell_type": "code",
   "execution_count": null,
   "id": "ed36921f-de59-459a-8bce-250024f18d3b",
   "metadata": {},
   "outputs": [],
   "source": []
  }
 ],
 "metadata": {
  "kernelspec": {
   "display_name": "Python 3 (ipykernel)",
   "language": "python",
   "name": "python3"
  },
  "language_info": {
   "codemirror_mode": {
    "name": "ipython",
    "version": 3
   },
   "file_extension": ".py",
   "mimetype": "text/x-python",
   "name": "python",
   "nbconvert_exporter": "python",
   "pygments_lexer": "ipython3",
   "version": "3.9.10"
  }
 },
 "nbformat": 4,
 "nbformat_minor": 5
}
