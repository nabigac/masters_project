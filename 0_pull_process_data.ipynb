{
 "cells": [
  {
   "cell_type": "markdown",
   "id": "b78b1592-ad6d-4d14-9262-4eed4fb45015",
   "metadata": {},
   "source": [
    "# Pull, Process, and Prepare Data\n",
    "---\n",
    "**Project**: Masters Project <br>\n",
    "**Author**: Nabig Chaudhry"
   ]
  },
  {
   "cell_type": "code",
   "execution_count": null,
   "id": "0bd79e9c-5175-420c-ad32-d87def7b3b6f",
   "metadata": {},
   "outputs": [],
   "source": [
    "# import necessary packages\n",
    "\n",
    "import requests \n",
    "import numpy as np\n",
    "import pandas as pd\n",
    "import xarray as xr\n",
    "from datetime import datetime\n",
    "from scipy import stats\n",
    "import os as os\n",
    "import intake\n",
    "\n",
    "import matplotlib.pyplot as plt\n",
    "%matplotlib inline\n",
    "import cartopy.crs as ccrs\n",
    "import regionmask"
   ]
  },
  {
   "cell_type": "code",
   "execution_count": null,
   "id": "7488a3ee-5e0e-4da8-91e6-4c8911c362d1",
   "metadata": {},
   "outputs": [],
   "source": [
    "xr.set_options(keep_attrs=True) "
   ]
  },
  {
   "cell_type": "markdown",
   "id": "545e6dc9-445c-41e7-9559-60fb869317f6",
   "metadata": {
    "tags": []
   },
   "source": [
    "## Step 1: Pull Initial Resampled AMS data from AWS"
   ]
  },
  {
   "cell_type": "markdown",
   "id": "c9b0c7d4-6e98-416b-a626-a9a993710587",
   "metadata": {},
   "source": [
    "Details on how raw hourly data was pulled and resampled into an annual maximum series (AMS) from Amazon Web Services (AWS) is located in data/README.md."
   ]
  },
  {
   "cell_type": "markdown",
   "id": "0ebc06ad-34bb-4709-b365-0de7fc4b63a3",
   "metadata": {},
   "source": [
    "## Step 2: Process and Prepare Initial Resampled Data for Analysis"
   ]
  },
  {
   "cell_type": "code",
   "execution_count": null,
   "id": "82055d34-b824-4f3a-9ac7-21895eff6fed",
   "metadata": {},
   "outputs": [],
   "source": [
    "os.listdir('./data/initial_resampled/9km')"
   ]
  },
  {
   "cell_type": "code",
   "execution_count": null,
   "id": "18bb5efb-3d3a-4827-be41-25ca72109cf9",
   "metadata": {},
   "outputs": [],
   "source": [
    "input_path ='./data/initial_resampled/9km'"
   ]
  },
  {
   "cell_type": "code",
   "execution_count": null,
   "id": "bc7e61bf-c976-4357-897f-c6711ee3fb07",
   "metadata": {},
   "outputs": [],
   "source": [
    "# open files\n",
    "\n",
    "cesm2_hist = xr.open_dataset(f'{input_path}/wrf_cesm2_historical_9km.nc')\n",
    "cesm2_ssp370 = xr.open_dataset(f'{input_path}/wrf_cesm2_ssp370_9km.nc')\n",
    "\n",
    "cnrm_hist = xr.open_dataset(f'{input_path}/wrf_cnrm_esm2_1_historical_9km.nc')\n",
    "cnrm_ssp370 = xr.open_dataset(f'{input_path}/wrf_cnrm_esm2_1_ssp370_9km.nc')"
   ]
  },
  {
   "cell_type": "code",
   "execution_count": null,
   "id": "20e03c68-0f94-40ed-9868-fc52b18baa6d",
   "metadata": {},
   "outputs": [],
   "source": [
    "# convert to dataarray\n",
    "\n",
    "cesm2_hist = cesm2_hist['T2']\n",
    "cesm2_ssp370 = cesm2_ssp370['T2']\n",
    "cnrm_hist = cnrm_hist['T2']\n",
    "cnrm_ssp370 = cnrm_ssp370['T2']"
   ]
  },
  {
   "cell_type": "code",
   "execution_count": null,
   "id": "819d6fca-a6b3-4738-af1b-46a18e651dcc",
   "metadata": {},
   "outputs": [],
   "source": [
    "global_attributes = {'grid mapping':'lambert conformal',\n",
    "                     'unit description':'temp at 2 m',\n",
    "                     'units':'kelvin',\n",
    "                     'extreme value extraction method':'block maxima',\n",
    "                     'extremes type':'maxima',\n",
    "                     'block size':'1 year',\n",
    "                     'timeseries type':'annual max series'}"
   ]
  },
  {
   "cell_type": "code",
   "execution_count": null,
   "id": "57c7073a-61a1-4857-861f-fc5f1d1c6191",
   "metadata": {},
   "outputs": [],
   "source": [
    "# add attributes\n",
    "\n",
    "cesm2_hist.attrs = global_attributes\n",
    "cesm2_hist.attrs['global climate model'] = 'cesm2'\n",
    "cesm2_hist.attrs['model observations'] = 'historical'\n",
    "\n",
    "cesm2_ssp370.attrs = global_attributes\n",
    "cesm2_ssp370.attrs['global climate model'] = 'cesm2'\n",
    "cesm2_ssp370.attrs['model observations'] = 'projections'\n",
    "cesm2_ssp370.attrs['pathway'] = 'ssp370'\n",
    "\n",
    "cnrm_hist.attrs = global_attributes\n",
    "cnrm_hist.attrs['global climate model'] = 'cnrm esm2-1'\n",
    "cnrm_hist.attrs['model observations'] = 'historical'\n",
    "\n",
    "cnrm_ssp370.attrs = global_attributes\n",
    "cnrm_ssp370.attrs['global climate model'] = 'cnrm esm2-1'\n",
    "cnrm_ssp370.attrs['model observations'] = 'projections'\n",
    "cnrm_ssp370.attrs['pathway'] = 'ssp370'"
   ]
  },
  {
   "cell_type": "code",
   "execution_count": null,
   "id": "71ea1653-8cba-4c82-a199-3b3d981c9f7c",
   "metadata": {},
   "outputs": [],
   "source": [
    "# convert temperature from K to C\n",
    "\n",
    "cesm2_hist.data = cesm2_hist.data - 273.15\n",
    "cesm2_hist.attrs['units'] = 'celsius'\n",
    "\n",
    "cesm2_ssp370.data = cesm2_ssp370.data - 273.15\n",
    "cesm2_ssp370.attrs['units'] = 'celsius'\n",
    "\n",
    "cnrm_hist.data = cnrm_hist.data - 273.15\n",
    "cnrm_hist.attrs['units'] = 'celsius'\n",
    "\n",
    "cnrm_ssp370.data = cnrm_ssp370.data - 273.15\n",
    "cnrm_ssp370.attrs['units'] = 'celsius'"
   ]
  },
  {
   "cell_type": "code",
   "execution_count": null,
   "id": "f6691624-dcd9-468d-bbab-c1dec7cd7ac0",
   "metadata": {},
   "outputs": [],
   "source": [
    "# set regional masks to california\n",
    "\n",
    "cesm2_hist_mask = regionmask.defined_regions.natural_earth_v5_0_0.us_states_50.mask(cesm2_hist.lon, cesm2_hist.lat, method='shapely', wrap_lon=False)\n",
    "cesm2_ssp370_mask = regionmask.defined_regions.natural_earth_v5_0_0.us_states_50.mask(cesm2_ssp370.lon, cesm2_ssp370.lat, method='shapely',wrap_lon=False)\n",
    "cnrm_hist_mask = regionmask.defined_regions.natural_earth_v5_0_0.us_states_50.mask(cnrm_hist.lon, cnrm_hist.lat, method='shapely', wrap_lon=False)\n",
    "cnrm_ssp370_mask = regionmask.defined_regions.natural_earth_v5_0_0.us_states_50.mask(cnrm_ssp370.lon, cnrm_ssp370.lat, method='shapely', wrap_lon=False)"
   ]
  },
  {
   "cell_type": "code",
   "execution_count": null,
   "id": "38d63ca1-1a28-4973-99eb-afb7fe8e6e5a",
   "metadata": {},
   "outputs": [],
   "source": [
    "# use mask to spatially subset data to california\n",
    "\n",
    "cesm2_hist = cesm2_hist.where(cesm2_hist_mask == 4).dropna(\"x\", how=\"all\").dropna(\"y\", how=\"all\")\n",
    "cesm2_ssp370 = cesm2_ssp370.where(cesm2_ssp370_mask == 4).dropna(\"x\", how=\"all\").dropna(\"y\", how=\"all\")\n",
    "cnrm_hist = cnrm_hist.where(cnrm_hist_mask == 4).dropna(\"x\", how=\"all\").dropna(\"y\", how=\"all\")\n",
    "cnrm_ssp370 = cnrm_ssp370.where(cnrm_ssp370_mask == 4).dropna(\"x\", how=\"all\").dropna(\"y\", how=\"all\")"
   ]
  },
  {
   "cell_type": "code",
   "execution_count": null,
   "id": "16e23070-7a41-4f42-b18d-b74ca86ec81d",
   "metadata": {},
   "outputs": [],
   "source": [
    "# temporally subset data into intervals for analysis\n",
    "\n",
    "cesm2_hist_1980 = cesm2_hist.sel(time=slice('1980-01-01', '2000-01-01'))\n",
    "\n",
    "cesm2_ssp370_2020 = cesm2_ssp370.sel(time=slice('2020-01-01', '2040-01-01'))\n",
    "cesm2_ssp370_2040 = cesm2_ssp370.sel(time=slice('2040-01-01', '2060-01-01'))\n",
    "cesm2_ssp370_2060 = cesm2_ssp370.sel(time=slice('2060-01-01', '2080-01-01'))\n",
    "cesm2_ssp370_2080 = cesm2_ssp370.sel(time=slice('2080-01-01', '2100-01-01'))\n",
    "\n",
    "cnrm_hist_1980 = cnrm_hist.sel(time=slice('1980-01-01', '2000-01-01'))\n",
    "\n",
    "cnrm_ssp370_2020 = cnrm_ssp370.sel(time=slice('2020-01-01', '2040-01-01'))\n",
    "cnrm_ssp370_2040 = cnrm_ssp370.sel(time=slice('2040-01-01', '2060-01-01'))\n",
    "cnrm_ssp370_2060 = cnrm_ssp370.sel(time=slice('2060-01-01', '2080-01-01'))\n",
    "cnrm_ssp370_2080 = cnrm_ssp370.sel(time=slice('2080-01-01', '2100-01-01'))"
   ]
  },
  {
   "cell_type": "markdown",
   "id": "893eefa0-d649-4468-833d-c8a9ce3b8082",
   "metadata": {},
   "source": [
    "## Step 3: Export Intermediate Processed Data"
   ]
  },
  {
   "cell_type": "code",
   "execution_count": null,
   "id": "cc0fc502-afa0-41a9-9da8-8322fb6a50e8",
   "metadata": {},
   "outputs": [],
   "source": [
    "export_path ='./data/intermediate_processed'"
   ]
  },
  {
   "cell_type": "code",
   "execution_count": null,
   "id": "a07a5124-af42-4c9f-9a2b-b2ed53b4cc6c",
   "metadata": {
    "tags": []
   },
   "outputs": [],
   "source": [
    "# export to data/intermediate_processed folder\n",
    "\n",
    "cesm2_hist_1980.to_netcdf(f'{export_path}/cesm2_hist_1980.nc')\n",
    "cesm2_ssp370_2020.to_netcdf(f'{export_path}/cesm2_ssp370_2020.nc')\n",
    "cesm2_ssp370_2040.to_netcdf(f'{export_path}/cesm2_ssp370_2040.nc')\n",
    "cesm2_ssp370_2060.to_netcdf(f'{export_path}/cesm2_ssp370_2060.nc')\n",
    "cesm2_ssp370_2080.to_netcdf(f'{export_path}/cesm2_ssp370_2080.nc')\n",
    "\n",
    "cnrm_hist_1980.to_netcdf(f'{export_path}/cnrm_hist_1980.nc')\n",
    "cnrm_ssp370_2020.to_netcdf(f'{export_path}/cnrm_ssp370_2020.nc')\n",
    "cnrm_ssp370_2040.to_netcdf(f'{export_path}/cnrm_ssp370_2040.nc')\n",
    "cnrm_ssp370_2060.to_netcdf(f'{export_path}/cnrm_ssp370_2060.nc')\n",
    "cnrm_ssp370_2080.to_netcdf(f'{export_path}/cnrm_ssp370_2080.nc')"
   ]
  },
  {
   "cell_type": "code",
   "execution_count": null,
   "id": "0369268c-31c6-47d9-8207-eda2a8cf6335",
   "metadata": {},
   "outputs": [],
   "source": []
  }
 ],
 "metadata": {
  "kernelspec": {
   "display_name": "Python 3 (ipykernel)",
   "language": "python",
   "name": "python3"
  },
  "language_info": {
   "codemirror_mode": {
    "name": "ipython",
    "version": 3
   },
   "file_extension": ".py",
   "mimetype": "text/x-python",
   "name": "python",
   "nbconvert_exporter": "python",
   "pygments_lexer": "ipython3",
   "version": "3.9.10"
  }
 },
 "nbformat": 4,
 "nbformat_minor": 5
}
