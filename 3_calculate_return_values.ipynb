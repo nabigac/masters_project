{
 "cells": [
  {
   "cell_type": "markdown",
   "id": "bcf6bcce-0031-4e95-bc37-6d6630a9ae4e",
   "metadata": {},
   "source": [
    "# Calculate Return Values for a 1-in-10-year Event\n",
    "---\n",
    "**Project**: Masters Project <br>\n",
    "**Author**: Nabig Chaudhry"
   ]
  },
  {
   "cell_type": "code",
   "execution_count": 56,
   "id": "972d353e-be66-4f45-9f7b-9d6f83ac7b3f",
   "metadata": {},
   "outputs": [],
   "source": [
    "# import necessary packages\n",
    "\n",
    "import requests \n",
    "import numpy as np\n",
    "import pandas as pd\n",
    "import xarray as xr\n",
    "from datetime import datetime\n",
    "import os as os\n",
    "from scipy import stats\n",
    "import statsmodels.api as sm\n",
    "import time\n",
    "\n",
    "import lmoments3 as lm\n",
    "from lmoments3 import distr as ldistr\n",
    "\n",
    "import matplotlib.pyplot as plt\n",
    "%matplotlib inline\n",
    "import cartopy.crs as ccrs\n",
    "import cartopy.feature as cfeature\n",
    "import geoviews as gv\n",
    "import holoviews as hv\n",
    "import hvplot.pandas\n",
    "import hvplot.xarray"
   ]
  },
  {
   "cell_type": "code",
   "execution_count": 57,
   "id": "023422a0-0b62-48a1-9317-406673c729cc",
   "metadata": {},
   "outputs": [
    {
     "name": "stdout",
     "output_type": "stream",
     "text": [
      "The autoreload extension is already loaded. To reload it, use:\n",
      "  %reload_ext autoreload\n"
     ]
    }
   ],
   "source": [
    "# import functions specifically for masters project\n",
    "\n",
    "%load_ext autoreload\n",
    "%autoreload 2\n",
    "\n",
    "import masters_project_functions as mp"
   ]
  },
  {
   "cell_type": "markdown",
   "id": "3c3353a4-a089-4179-95a5-0b8551a8b7e4",
   "metadata": {},
   "source": [
    "## Step 1: Pull Intermediate Processed Data"
   ]
  },
  {
   "cell_type": "code",
   "execution_count": 63,
   "id": "91c3905e-d37d-468e-bc06-5bd972498ac7",
   "metadata": {},
   "outputs": [
    {
     "data": {
      "text/plain": [
       "['cnrm_ssp370_2060.nc',\n",
       " 'cesm2_ssp370_2040.nc',\n",
       " 'cesm2_ssp370_2060.nc',\n",
       " 'cnrm_ssp370_2040.nc',\n",
       " 'cesm2_ssp370_2020.nc',\n",
       " 'cnrm_ssp370_2020.nc',\n",
       " 'cnrm_hist_1980.nc',\n",
       " 'cnrm_ssp370_2080.nc',\n",
       " 'cesm2_hist_1980.nc',\n",
       " 'cesm2_ssp370_2080.nc',\n",
       " '.ipynb_checkpoints']"
      ]
     },
     "execution_count": 63,
     "metadata": {},
     "output_type": "execute_result"
    }
   ],
   "source": [
    "os.listdir('./data/intermediate_processed')"
   ]
  },
  {
   "cell_type": "code",
   "execution_count": 64,
   "id": "b26fa101-965f-4802-845f-b99f3aaf9151",
   "metadata": {},
   "outputs": [],
   "source": [
    "import_path = './data/intermediate_processed'"
   ]
  },
  {
   "cell_type": "code",
   "execution_count": 65,
   "id": "81a38688-bb4d-4b1c-a9a5-6407d470ab81",
   "metadata": {},
   "outputs": [],
   "source": [
    "cesm2_hist_1980 = xr.open_dataarray(f'{import_path}/cesm2_hist_1980.nc')\n",
    "cesm2_ssp370_2020 = xr.open_dataarray(f'{import_path}/cesm2_ssp370_2020.nc')\n",
    "cesm2_ssp370_2040 = xr.open_dataarray(f'{import_path}/cesm2_ssp370_2040.nc')\n",
    "cesm2_ssp370_2060 = xr.open_dataarray(f'{import_path}/cesm2_ssp370_2060.nc')\n",
    "cesm2_ssp370_2080 = xr.open_dataarray(f'{import_path}/cesm2_ssp370_2080.nc')\n",
    "\n",
    "cnrm_hist_1980 = xr.open_dataarray(f'{import_path}/cnrm_hist_1980.nc')\n",
    "cnrm_ssp370_2020 = xr.open_dataarray(f'{import_path}/cnrm_ssp370_2020.nc')\n",
    "cnrm_ssp370_2040 = xr.open_dataarray(f'{import_path}/cnrm_ssp370_2040.nc')\n",
    "cnrm_ssp370_2060 = xr.open_dataarray(f'{import_path}/cnrm_ssp370_2060.nc')\n",
    "cnrm_ssp370_2080 = xr.open_dataarray(f'{import_path}/cnrm_ssp370_2080.nc')"
   ]
  },
  {
   "cell_type": "markdown",
   "id": "0240bdbc-f98a-466d-b4ed-f3de5348ce27",
   "metadata": {},
   "source": [
    "## Step 2: Calculate Return Values for CESM2 Global Climate Model"
   ]
  },
  {
   "cell_type": "code",
   "execution_count": 67,
   "id": "945a6422-30e5-4f81-8cde-838eed89e832",
   "metadata": {},
   "outputs": [],
   "source": [
    "cesm2_hist_1980_rv = mp.get_return_value(cesm2_hist_1980, \n",
    "                                         return_period=10, \n",
    "                                         bootstrap_runs=100)"
   ]
  },
  {
   "cell_type": "code",
   "execution_count": 76,
   "id": "668caae4-4ee1-498e-84f8-62f01255fa91",
   "metadata": {},
   "outputs": [],
   "source": [
    "cesm2_ssp370_2020_rv = mp.get_return_value(cesm2_ssp370_2020, \n",
    "                                           return_period=10, \n",
    "                                           bootstrap_runs=100)"
   ]
  },
  {
   "cell_type": "code",
   "execution_count": 77,
   "id": "5901a6b1-fc57-43c2-a7f9-b8ee98320b19",
   "metadata": {
    "tags": []
   },
   "outputs": [],
   "source": [
    "cesm2_ssp370_2040_rv = mp.get_return_value(cesm2_ssp370_2040, \n",
    "                                           return_period=10, \n",
    "                                           bootstrap_runs=100)"
   ]
  },
  {
   "cell_type": "code",
   "execution_count": 78,
   "id": "abcab800-c329-45c0-8833-a742984afa6a",
   "metadata": {},
   "outputs": [],
   "source": [
    "cesm2_ssp370_2060_rv = mp.get_return_value(cesm2_ssp370_2060, \n",
    "                                           return_period=10, \n",
    "                                           bootstrap_runs=100)"
   ]
  },
  {
   "cell_type": "code",
   "execution_count": 79,
   "id": "230a8903-f146-436b-990e-70ec5f9c9de1",
   "metadata": {},
   "outputs": [],
   "source": [
    "cesm2_ssp370_2080_rv = mp.get_return_value(cesm2_ssp370_2080, \n",
    "                                           return_period=10, \n",
    "                                           bootstrap_runs=100)"
   ]
  },
  {
   "cell_type": "markdown",
   "id": "021ec989-cb4a-473a-b93a-4cbae18dd25c",
   "metadata": {},
   "source": [
    "## Step 3: Calculate Return Values for CNRM-ESM2-1 Global Climate Model"
   ]
  },
  {
   "cell_type": "code",
   "execution_count": 83,
   "id": "f12d8e68-1e23-4d8f-907f-8538b4ba9444",
   "metadata": {},
   "outputs": [],
   "source": [
    "cnrm_hist_1980_rv = mp.get_return_value(cnrm_hist_1980, \n",
    "                                        return_period=10, \n",
    "                                        bootstrap_runs=100)"
   ]
  },
  {
   "cell_type": "code",
   "execution_count": 84,
   "id": "680e96eb-0972-4f16-be2e-c17062c0e0b4",
   "metadata": {},
   "outputs": [],
   "source": [
    "cnrm_ssp370_2020_rv = mp.get_return_value(cnrm_ssp370_2020, \n",
    "                                          return_period=10, \n",
    "                                          bootstrap_runs=100)"
   ]
  },
  {
   "cell_type": "code",
   "execution_count": 85,
   "id": "ff2e9863-460c-4976-a91f-01bfccccec34",
   "metadata": {},
   "outputs": [],
   "source": [
    "cnrm_ssp370_2040_rv = mp.get_return_value(cnrm_ssp370_2040, \n",
    "                                          return_period=10, \n",
    "                                          bootstrap_runs=100)"
   ]
  },
  {
   "cell_type": "code",
   "execution_count": 86,
   "id": "7587298d-d252-4280-ac29-fe8f1408d310",
   "metadata": {},
   "outputs": [],
   "source": [
    "cnrm_ssp370_2060_rv = mp.get_return_value(cnrm_ssp370_2060, \n",
    "                                          return_period=10, \n",
    "                                          bootstrap_runs=100)"
   ]
  },
  {
   "cell_type": "code",
   "execution_count": 87,
   "id": "94c09415-5eff-465d-a1b1-08229771799f",
   "metadata": {},
   "outputs": [],
   "source": [
    "cnrm_ssp370_2080_rv = mp.get_return_value(cnrm_ssp370_2080, \n",
    "                                          return_period=10, \n",
    "                                          bootstrap_runs=100)"
   ]
  },
  {
   "cell_type": "markdown",
   "id": "9d8985f0-61dc-4fdf-a251-709f000a9c07",
   "metadata": {},
   "source": [
    "## Step 4: Export Final Data For Analysis and Visualization"
   ]
  },
  {
   "cell_type": "code",
   "execution_count": 93,
   "id": "85c0c519-3e92-4b20-9a42-06e17fd81488",
   "metadata": {},
   "outputs": [],
   "source": [
    "export_path ='./data/final_for_analysis/return_value'"
   ]
  },
  {
   "cell_type": "code",
   "execution_count": null,
   "id": "8f2cebba-2a7d-4f8e-8963-f3e121c0e006",
   "metadata": {},
   "outputs": [],
   "source": [
    "# export to data/final_for_analysis folder\n",
    "\n",
    "cesm2_hist_1980_rv.to_netcdf(f'{export_path}/cesm2_hist_1980_rv.nc')\n",
    "cesm2_ssp370_2020_rv.to_netcdf(f'{export_path}/cesm2_ssp370_2020_rv.nc')\n",
    "cesm2_ssp370_2040_rv.to_netcdf(f'{export_path}/cesm2_ssp370_2040_rv.nc')\n",
    "cesm2_ssp370_2060_rv.to_netcdf(f'{export_path}/cesm2_ssp370_2060_rv.nc')\n",
    "cesm2_ssp370_2080_rv.to_netcdf(f'{export_path}/cesm2_ssp370_2080_rv.nc')\n",
    "\n",
    "cnrm_hist_1980_rv.to_netcdf(f'{export_path}/cnrm_hist_1980_rv.nc')\n",
    "cnrm_ssp370_2020_rv.to_netcdf(f'{export_path}/cnrm_ssp370_2020_rv.nc')\n",
    "cnrm_ssp370_2040_rv.to_netcdf(f'{export_path}/cnrm_ssp370_2040_rv.nc')\n",
    "cnrm_ssp370_2060_rv.to_netcdf(f'{export_path}/cnrm_ssp370_2060_rv.nc')\n",
    "cnrm_ssp370_2080_rv.to_netcdf(f'{export_path}/cnrm_ssp370_2080_rv.nc')"
   ]
  },
  {
   "cell_type": "code",
   "execution_count": null,
   "id": "a0ce740d-4dd1-42bc-93b0-b8872de75305",
   "metadata": {},
   "outputs": [],
   "source": []
  }
 ],
 "metadata": {
  "kernelspec": {
   "display_name": "Python 3 (ipykernel)",
   "language": "python",
   "name": "python3"
  },
  "language_info": {
   "codemirror_mode": {
    "name": "ipython",
    "version": 3
   },
   "file_extension": ".py",
   "mimetype": "text/x-python",
   "name": "python",
   "nbconvert_exporter": "python",
   "pygments_lexer": "ipython3",
   "version": "3.9.10"
  }
 },
 "nbformat": 4,
 "nbformat_minor": 5
}
