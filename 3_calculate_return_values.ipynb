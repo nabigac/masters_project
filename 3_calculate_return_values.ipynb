{
 "cells": [
  {
   "cell_type": "markdown",
   "id": "bcf6bcce-0031-4e95-bc37-6d6630a9ae4e",
   "metadata": {},
   "source": [
    "# Calculate Return Values"
   ]
  },
  {
   "cell_type": "code",
   "execution_count": null,
   "id": "972d353e-be66-4f45-9f7b-9d6f83ac7b3f",
   "metadata": {},
   "outputs": [],
   "source": [
    "# import necessary packages\n",
    "\n",
    "import requests \n",
    "import numpy as np\n",
    "import pandas as pd\n",
    "import xarray as xr\n",
    "from datetime import datetime\n",
    "import os as os\n",
    "from scipy import stats\n",
    "import statsmodels.api as sm\n",
    "\n",
    "import lmoments3 as lm\n",
    "from lmoments3 import distr as ldistr\n",
    "\n",
    "import matplotlib.pyplot as plt\n",
    "%matplotlib inline\n",
    "import cartopy.crs as ccrs\n",
    "import cartopy.feature as cfeature\n",
    "import geoviews as gv\n",
    "import holoviews as hv\n",
    "import hvplot.pandas\n",
    "import hvplot.xarray"
   ]
  },
  {
   "cell_type": "code",
   "execution_count": null,
   "id": "023422a0-0b62-48a1-9317-406673c729cc",
   "metadata": {},
   "outputs": [],
   "source": [
    "# import functions specifically for masters_project\n",
    "\n",
    "%load_ext autoreload\n",
    "%autoreload 2\n",
    "\n",
    "import masters_project_functions as mp"
   ]
  },
  {
   "cell_type": "code",
   "execution_count": null,
   "id": "8f4a29a7-a272-4a1e-8fe6-40810d2c6640",
   "metadata": {},
   "outputs": [],
   "source": [
    "# Step 1"
   ]
  },
  {
   "cell_type": "code",
   "execution_count": null,
   "id": "91c3905e-d37d-468e-bc06-5bd972498ac7",
   "metadata": {},
   "outputs": [],
   "source": [
    "os.listdir('./data/intermediate_processed')"
   ]
  },
  {
   "cell_type": "code",
   "execution_count": null,
   "id": "b26fa101-965f-4802-845f-b99f3aaf9151",
   "metadata": {},
   "outputs": [],
   "source": [
    "import_path = './data/intermediate_processed'"
   ]
  },
  {
   "cell_type": "code",
   "execution_count": null,
   "id": "81a38688-bb4d-4b1c-a9a5-6407d470ab81",
   "metadata": {},
   "outputs": [],
   "source": [
    "cesm2_hist_1980 = xr.open_dataarray(f'{import_path}/cesm2_hist_1980.nc')\n",
    "cesm2_ssp370_2020 = xr.open_dataarray(f'{import_path}/cesm2_ssp370_2020.nc')\n",
    "cesm2_ssp370_2040 = xr.open_dataarray(f'{import_path}/cesm2_ssp370_2040.nc')\n",
    "cesm2_ssp370_2060 = xr.open_dataarray(f'{import_path}/cesm2_ssp370_2060.nc')\n",
    "cesm2_ssp370_2080 = xr.open_dataarray(f'{import_path}/cesm2_ssp370_2080.nc')\n",
    "\n",
    "cnrm_hist_1980 = xr.open_dataarray(f'{import_path}/cnrm_hist_1980.nc')\n",
    "cnrm_ssp370_2020 = xr.open_dataarray(f'{import_path}/cnrm_ssp370_2020.nc')\n",
    "cnrm_ssp370_2040 = xr.open_dataarray(f'{import_path}/cnrm_ssp370_2040.nc')\n",
    "cnrm_ssp370_2060 = xr.open_dataarray(f'{import_path}/cnrm_ssp370_2060.nc')\n",
    "cnrm_ssp370_2080 = xr.open_dataarray(f'{import_path}/cnrm_ssp370_2080.nc')"
   ]
  },
  {
   "cell_type": "code",
   "execution_count": null,
   "id": "4dc610d8-c0b4-4e7d-8ad6-0bd7ac3ab5e8",
   "metadata": {},
   "outputs": [],
   "source": [
    "export_path ='data/final_for_analysis/return_values'"
   ]
  },
  {
   "cell_type": "code",
   "execution_count": null,
   "id": "44a0c281-8569-41be-b0ee-945ce7dee37c",
   "metadata": {},
   "outputs": [],
   "source": [
    "# get return value for cesm2 gcm"
   ]
  },
  {
   "cell_type": "code",
   "execution_count": null,
   "id": "1bae45f6-589c-430f-97cb-784d9897bac6",
   "metadata": {},
   "outputs": [],
   "source": [
    "cesm2_hist_1980_rv_10 = mp.get_return_value(cesm2_hist_1980, \n",
    "                                            return_period=10, \n",
    "                                            bootstrap_runs=100)"
   ]
  },
  {
   "cell_type": "code",
   "execution_count": null,
   "id": "668caae4-4ee1-498e-84f8-62f01255fa91",
   "metadata": {},
   "outputs": [],
   "source": [
    "cesm2_ssp370_2020_rv_10 = mp.get_return_value(cesm2_ssp370_2020, \n",
    "                                              return_period=10, \n",
    "                                              bootstrap_runs=100)"
   ]
  },
  {
   "cell_type": "code",
   "execution_count": null,
   "id": "5901a6b1-fc57-43c2-a7f9-b8ee98320b19",
   "metadata": {
    "tags": []
   },
   "outputs": [],
   "source": [
    "cesm2_ssp370_2040_rv_10 = mp.get_return_value(cesm2_ssp370_2040, \n",
    "                                              return_period=10, \n",
    "                                              bootstrap_runs=100)"
   ]
  },
  {
   "cell_type": "code",
   "execution_count": null,
   "id": "abcab800-c329-45c0-8833-a742984afa6a",
   "metadata": {},
   "outputs": [],
   "source": [
    "cesm2_ssp370_2060_rv_10 = mp.get_return_value(cesm2_ssp370_2060, \n",
    "                                              return_period=10, \n",
    "                                              bootstrap_runs=100)"
   ]
  },
  {
   "cell_type": "code",
   "execution_count": null,
   "id": "230a8903-f146-436b-990e-70ec5f9c9de1",
   "metadata": {},
   "outputs": [],
   "source": [
    "cesm2_ssp370_2080_rv_10 = mp.get_return_value(cesm2_ssp370_2080, \n",
    "                                              return_period=10, \n",
    "                                              bootstrap_runs=100)"
   ]
  },
  {
   "cell_type": "code",
   "execution_count": null,
   "id": "57410c54-ed55-4888-a4aa-d04f94431814",
   "metadata": {},
   "outputs": [],
   "source": [
    "# get return value for cnrm-esm2-1 gcm"
   ]
  },
  {
   "cell_type": "code",
   "execution_count": null,
   "id": "f12d8e68-1e23-4d8f-907f-8538b4ba9444",
   "metadata": {},
   "outputs": [],
   "source": [
    "cnrm_hist_1980_rv_10 = mp.get_return_value(cnrm_hist_1980, \n",
    "                                           return_period=10, \n",
    "                                           bootstrap_runs=100)"
   ]
  },
  {
   "cell_type": "code",
   "execution_count": null,
   "id": "680e96eb-0972-4f16-be2e-c17062c0e0b4",
   "metadata": {},
   "outputs": [],
   "source": [
    "cnrm_ssp370_2020_rv_10 = mp.get_return_value(cnrm_ssp370_2020, \n",
    "                                             return_period=10, \n",
    "                                             bootstrap_runs=100)"
   ]
  },
  {
   "cell_type": "code",
   "execution_count": null,
   "id": "ff2e9863-460c-4976-a91f-01bfccccec34",
   "metadata": {},
   "outputs": [],
   "source": [
    "cnrm_ssp370_2040_rv_10 = mp.get_return_value(cnrm_ssp370_2040, \n",
    "                                             return_period=10, \n",
    "                                             bootstrap_runs=100)"
   ]
  },
  {
   "cell_type": "code",
   "execution_count": null,
   "id": "7587298d-d252-4280-ac29-fe8f1408d310",
   "metadata": {},
   "outputs": [],
   "source": [
    "cnrm_ssp370_2060_rv_10 = mp.get_return_value(cnrm_ssp370_2060, \n",
    "                                             return_period=10, \n",
    "                                             bootstrap_runs=100)"
   ]
  },
  {
   "cell_type": "code",
   "execution_count": null,
   "id": "94c09415-5eff-465d-a1b1-08229771799f",
   "metadata": {},
   "outputs": [],
   "source": [
    "cnrm_ssp370_2080_rv_10 = mp.get_return_value(cnrm_ssp370_2080, \n",
    "                                             return_period=10, \n",
    "                                             bootstrap_runs=100)"
   ]
  },
  {
   "cell_type": "code",
   "execution_count": null,
   "id": "a2736284-b216-4351-bb34-1a27482ffc18",
   "metadata": {},
   "outputs": [],
   "source": [
    "# export to data/final_for_analysis folder"
   ]
  },
  {
   "cell_type": "code",
   "execution_count": null,
   "id": "85c0c519-3e92-4b20-9a42-06e17fd81488",
   "metadata": {},
   "outputs": [],
   "source": [
    "export_path ='data/final_for_analysis/return_values'"
   ]
  },
  {
   "cell_type": "code",
   "execution_count": null,
   "id": "8f2cebba-2a7d-4f8e-8963-f3e121c0e006",
   "metadata": {},
   "outputs": [],
   "source": [
    "cesm2_hist_1980_rv_10.to_netcdf(f'./{export_path}/cesm2_hist_1980_rv_10.nc')\n",
    "cesm2_ssp370_2020_rv_10.to_netcdf(f'{export_path}/cesm2_ssp370_2020_rv_10.nc')\n",
    "cesm2_ssp370_2040_rv_10.to_netcdf(f'{export_path}/cesm2_ssp370_2040_rv_10.nc')\n",
    "cesm2_ssp370_2060_rv_10.to_netcdf(f'{export_path}/cesm2_ssp370_2060_rv_10.nc')\n",
    "cesm2_ssp370_2080_rv_10.to_netcdf(f'{export_path}/cesm2_ssp370_2080_rv_10.nc')\n",
    "\n",
    "cnrm_hist_1980_rv_10.to_netcdf(f'{export_path}/cnrm_hist_1980_rv_10.nc')\n",
    "cnrm_ssp370_2020_rv_10.to_netcdf(f'{export_path}/cnrm_ssp370_2020_rv_10.nc')\n",
    "cnrm_ssp370_2040_rv_10.to_netcdf(f'{export_path}/cnrm_ssp370_2040_rv_10.nc')\n",
    "cnrm_ssp370_2060_rv_10.to_netcdf(f'{export_path}/cnrm_ssp370_2060_rv_10.nc')\n",
    "cnrm_ssp370_2080_rv_10.to_netcdf(f'{export_path}/cnrm_ssp370_2080_rv_10.nc')"
   ]
  }
 ],
 "metadata": {
  "kernelspec": {
   "display_name": "Python [conda env:masters_project] *",
   "language": "python",
   "name": "conda-env-masters_project-py"
  },
  "language_info": {
   "codemirror_mode": {
    "name": "ipython",
    "version": 3
   },
   "file_extension": ".py",
   "mimetype": "text/x-python",
   "name": "python",
   "nbconvert_exporter": "python",
   "pygments_lexer": "ipython3",
   "version": "3.9.10"
  }
 },
 "nbformat": 4,
 "nbformat_minor": 5
}
