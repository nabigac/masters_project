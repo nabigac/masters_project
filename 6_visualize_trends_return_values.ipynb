{
 "cells": [
  {
   "cell_type": "markdown",
   "id": "d1b599c1-0e8e-463c-8f5b-5912c40c68df",
   "metadata": {},
   "source": [
    "# Visualize Trends in Return Values for a 1-in-10-year Event\n",
    "---\n",
    "**Project**: Masters Project <br>\n",
    "**Author**: Nabig Chaudhry"
   ]
  },
  {
   "cell_type": "code",
   "execution_count": 2,
   "id": "de29e8a2-6f90-408b-b542-077a1169afa4",
   "metadata": {},
   "outputs": [],
   "source": [
    "# import necessary packages\n",
    "\n",
    "import requests \n",
    "import numpy as np\n",
    "import pandas as pd\n",
    "import xarray as xr\n",
    "from datetime import datetime\n",
    "import os as os\n",
    "from scipy import stats\n",
    "import statsmodels.api as sm\n",
    "\n",
    "import lmoments3 as lm\n",
    "from lmoments3 import distr as ldistr\n",
    "\n",
    "import matplotlib.pyplot as plt\n",
    "from matplotlib import colors\n",
    "%matplotlib inline\n",
    "import cartopy.crs as ccrs\n",
    "import cartopy.feature as cfeature\n",
    "import geoviews as gv\n",
    "import holoviews as hv\n",
    "import hvplot.pandas\n",
    "import hvplot.xarray\n",
    "from bokeh.io import export_svgs"
   ]
  },
  {
   "cell_type": "code",
   "execution_count": 3,
   "id": "788e61fc-eb3b-4e8e-835e-bc147bb3ca39",
   "metadata": {},
   "outputs": [],
   "source": [
    "# import functions specifically for masters_project\n",
    "\n",
    "%load_ext autoreload\n",
    "%autoreload 2\n",
    "\n",
    "import masters_project_functions as mp"
   ]
  },
  {
   "cell_type": "markdown",
   "id": "ec00ecfc-915b-4777-90bb-5805ffcd88a8",
   "metadata": {},
   "source": [
    "## Step 1: Pull Final Return Value Data For Analysis"
   ]
  },
  {
   "cell_type": "code",
   "execution_count": 4,
   "id": "9c370369-dd36-49b2-ac5f-970a0c5b3cbe",
   "metadata": {},
   "outputs": [
    {
     "data": {
      "text/plain": [
       "['cnrm_ssp370_2060.nc',\n",
       " 'cesm2_ssp370_2040.nc',\n",
       " 'cesm2_ssp370_2060.nc',\n",
       " 'cnrm_ssp370_2040.nc',\n",
       " 'cesm2_ssp370_2020.nc',\n",
       " 'cnrm_ssp370_2020.nc',\n",
       " 'cnrm_hist_1980.nc',\n",
       " 'cnrm_ssp370_2080.nc',\n",
       " 'cesm2_hist_1980.nc',\n",
       " 'cesm2_ssp370_2080.nc',\n",
       " '.ipynb_checkpoints']"
      ]
     },
     "execution_count": 4,
     "metadata": {},
     "output_type": "execute_result"
    }
   ],
   "source": [
    "os.listdir('./data/intermediate_processed')"
   ]
  },
  {
   "cell_type": "code",
   "execution_count": 5,
   "id": "95cc523e-2891-4349-8f40-efac5338492f",
   "metadata": {},
   "outputs": [],
   "source": [
    "import_path = './data/final_for_analysis/return_value'"
   ]
  },
  {
   "cell_type": "code",
   "execution_count": 6,
   "id": "2f654fba-a11c-4aee-9e58-ad6b4b824cff",
   "metadata": {},
   "outputs": [],
   "source": [
    "cesm2_hist_1980_rv = xr.open_dataset(f'{import_path}/cesm2_hist_1980_rv.nc')\n",
    "cesm2_ssp370_2020_rv = xr.open_dataset(f'{import_path}/cesm2_ssp370_2020_rv.nc')\n",
    "cesm2_ssp370_2040_rv = xr.open_dataset(f'{import_path}/cesm2_ssp370_2040_rv.nc')\n",
    "cesm2_ssp370_2060_rv = xr.open_dataset(f'{import_path}/cesm2_ssp370_2060_rv.nc')\n",
    "cesm2_ssp370_2080_rv = xr.open_dataset(f'{import_path}/cesm2_ssp370_2080_rv.nc')\n",
    "\n",
    "cnrm_hist_1980_rv = xr.open_dataset(f'{import_path}/cnrm_hist_1980_rv.nc')\n",
    "cnrm_ssp370_2020_rv = xr.open_dataset(f'{import_path}/cnrm_ssp370_2020_rv.nc')\n",
    "cnrm_ssp370_2040_rv = xr.open_dataset(f'{import_path}/cnrm_ssp370_2040_rv.nc')\n",
    "cnrm_ssp370_2060_rv = xr.open_dataset(f'{import_path}/cnrm_ssp370_2060_rv.nc')\n",
    "cnrm_ssp370_2080_rv = xr.open_dataset(f'{import_path}/cnrm_ssp370_2080_rv.nc')"
   ]
  },
  {
   "cell_type": "markdown",
   "id": "c7e3d094-7e61-4634-911b-ce4e7ce6bb6d",
   "metadata": {},
   "source": [
    "## Step 2: Pull Return Value Arrays for CESM2 Global Climate Model"
   ]
  },
  {
   "cell_type": "code",
   "execution_count": 7,
   "id": "1711facc-778b-4c1d-aca5-a2f058fe9345",
   "metadata": {},
   "outputs": [],
   "source": [
    "cesm2_hist_1980_rv_array = mp.get_flat_array(cesm2_hist_1980_rv, \n",
    "                                             data_variable='return_value')"
   ]
  },
  {
   "cell_type": "code",
   "execution_count": 8,
   "id": "7736fa98-b5cc-49f9-a698-ce7519c7b3a4",
   "metadata": {},
   "outputs": [],
   "source": [
    "cesm2_ssp370_2020_rv_array = mp.get_flat_array(cesm2_ssp370_2020_rv, \n",
    "                                             data_variable='return_value')"
   ]
  },
  {
   "cell_type": "code",
   "execution_count": 9,
   "id": "9db90cfb-fa22-44f9-8515-2ec28bcb2b00",
   "metadata": {},
   "outputs": [],
   "source": [
    "cesm2_ssp370_2040_rv_array = mp.get_flat_array(cesm2_ssp370_2040_rv, \n",
    "                                             data_variable='return_value')"
   ]
  },
  {
   "cell_type": "code",
   "execution_count": 10,
   "id": "6230e812-e29c-4e19-aea2-94653e51fc66",
   "metadata": {},
   "outputs": [],
   "source": [
    "cesm2_ssp370_2060_rv_array = mp.get_flat_array(cesm2_ssp370_2060_rv, \n",
    "                                             data_variable='return_value')"
   ]
  },
  {
   "cell_type": "code",
   "execution_count": 11,
   "id": "1a7848e1-695a-4573-a5d7-b1a5f4f74b7d",
   "metadata": {},
   "outputs": [],
   "source": [
    "cesm2_ssp370_2080_rv_array = mp.get_flat_array(cesm2_ssp370_2080_rv, \n",
    "                                             data_variable='return_value')"
   ]
  },
  {
   "cell_type": "code",
   "execution_count": 64,
   "id": "2d87b1df-4eeb-4d5f-b3db-9d4422ff2757",
   "metadata": {},
   "outputs": [],
   "source": [
    "# create dataframe from all return value arrays\n",
    "\n",
    "cesm2_rv_df = pd.DataFrame({'cesm2_hist_1980': cesm2_hist_1980_rv_array, \n",
    "                            'cesm2_ssp370_2020': cesm2_ssp370_2020_rv_array,\n",
    "                            'cesm2_ssp370_2040': cesm2_ssp370_2040_rv_array,\n",
    "                            'cesm2_ssp370_2060': cesm2_ssp370_2060_rv_array,\n",
    "                            'cesm2_ssp370_2080': cesm2_ssp370_2020_rv_array})"
   ]
  },
  {
   "cell_type": "markdown",
   "id": "f865dcf7-c788-46f7-87b6-ec283a9d80e6",
   "metadata": {},
   "source": [
    "## Step 3: Pull Return Value Arrays for CNRM-ESM2-1 Global Climate Model"
   ]
  },
  {
   "cell_type": "code",
   "execution_count": 25,
   "id": "81492b29-0d0a-4de6-a91e-5ec99fb57669",
   "metadata": {},
   "outputs": [],
   "source": [
    "cnrm_hist_1980_rv_array = mp.get_flat_array(cnrm_hist_1980_rv, \n",
    "                                             data_variable='return_value')"
   ]
  },
  {
   "cell_type": "code",
   "execution_count": 26,
   "id": "5c40b541-a962-40da-84a9-4c3fd7a838a3",
   "metadata": {},
   "outputs": [],
   "source": [
    "cnrm_ssp370_2020_rv_array = mp.get_flat_array(cnrm_ssp370_2020_rv, \n",
    "                                             data_variable='return_value')"
   ]
  },
  {
   "cell_type": "code",
   "execution_count": 27,
   "id": "4b675bb4-789a-4b53-befc-a5f70550b595",
   "metadata": {},
   "outputs": [],
   "source": [
    "cnrm_ssp370_2040_rv_array = mp.get_flat_array(cnrm_ssp370_2040_rv, \n",
    "                                             data_variable='return_value')"
   ]
  },
  {
   "cell_type": "code",
   "execution_count": 28,
   "id": "b8599fd9-ed07-404b-88e0-b21b05cf16a8",
   "metadata": {},
   "outputs": [],
   "source": [
    "cnrm_ssp370_2060_rv_array = mp.get_flat_array(cnrm_ssp370_2060_rv, \n",
    "                                             data_variable='return_value')"
   ]
  },
  {
   "cell_type": "code",
   "execution_count": 29,
   "id": "1d0e1305-461d-4da5-b441-b7c7b9e5aa55",
   "metadata": {},
   "outputs": [],
   "source": [
    "cnrm_ssp370_2080_rv_array = mp.get_flat_array(cnrm_ssp370_2080_rv, \n",
    "                                             data_variable='return_value')"
   ]
  },
  {
   "cell_type": "code",
   "execution_count": 65,
   "id": "dc20bf34-26ca-43ea-a71b-c9fcfd117ff1",
   "metadata": {},
   "outputs": [],
   "source": [
    "# create dataframe from all return value arrays\n",
    "\n",
    "cnrm_rv_df = pd.DataFrame({'cnrm_hist_1980': cnrm_hist_1980_rv_array, \n",
    "                            'cnrm_ssp370_2020': cnrm_ssp370_2020_rv_array,\n",
    "                            'cnrm_ssp370_2040': cnrm_ssp370_2040_rv_array,\n",
    "                            'cnrm_ssp370_2060': cnrm_ssp370_2060_rv_array,\n",
    "                            'cnrm_ssp370_2080': cnrm_ssp370_2080_rv_array})"
   ]
  },
  {
   "cell_type": "markdown",
   "id": "b2312b02-dc39-4b07-94e2-2d8069a553ac",
   "metadata": {},
   "source": [
    "## Step 4: Set Graphing Parameters"
   ]
  },
  {
   "cell_type": "code",
   "execution_count": 117,
   "id": "4d820463-25b7-4169-8b7f-cc55684eeea6",
   "metadata": {
    "tags": []
   },
   "outputs": [],
   "source": [
    "box_fill_color = 'orange'\n",
    "box_hover_color = 'blue'\n",
    "\n",
    "width=650\n",
    "height=400\n",
    "\n",
    "columns = ['Historical 1980-99',\n",
    "          'SSP3-7.0 2020-39',\n",
    "          'SSP3-7.0 2040-59',\n",
    "          'SSP3-7.0 2060-79',\n",
    "          'SSP3-7.0 2080-99']\n",
    "\n",
    "group_label='Climate Models'\n",
    "value_label='Return Values (Degrees C)'"
   ]
  },
  {
   "cell_type": "markdown",
   "id": "d9d26200-7a80-4382-8341-86d3c81e83b4",
   "metadata": {},
   "source": [
    "## Step 5: Visualize Trends and Return Value Data Through Box Plots"
   ]
  },
  {
   "cell_type": "code",
   "execution_count": 122,
   "id": "b0448ae2-045c-4d5e-bbfe-a7dbde952ca2",
   "metadata": {
    "tags": []
   },
   "outputs": [
    {
     "name": "stderr",
     "output_type": "stream",
     "text": [
      "BokehUserWarning: ColumnDataSource's columns must be of the same length. Current lengths: ('Return Values (Degrees C)', 364), ('Return_Values_left_parenthesis_Degrees_C_right_parenthesis', 0), ('index', 364)\n"
     ]
    },
    {
     "data": {},
     "metadata": {},
     "output_type": "display_data"
    },
    {
     "data": {
      "application/vnd.holoviews_exec.v0+json": "",
      "text/html": [
       "<div id='12162'>\n",
       "\n",
       "\n",
       "\n",
       "\n",
       "\n",
       "  <div class=\"bk-root\" id=\"233a63cb-3351-423d-9c4b-c304747a6b74\" data-root-id=\"12162\"></div>\n",
       "</div>\n",
       "<script type=\"application/javascript\">(function(root) {\n",
       "  function embed_document(root) {\n",
       "    var docs_json = {\"f2e45431-32f3-4b4f-b636-23e7ef8c6f1c\":{\"defs\":[{\"extends\":null,\"module\":null,\"name\":\"ReactiveHTML1\",\"overrides\":[],\"properties\":[]},{\"extends\":null,\"module\":null,\"name\":\"FlexBox1\",\"overrides\":[],\"properties\":[{\"default\":\"flex-start\",\"kind\":null,\"name\":\"align_content\"},{\"default\":\"flex-start\",\"kind\":null,\"name\":\"align_items\"},{\"default\":\"row\",\"kind\":null,\"name\":\"flex_direction\"},{\"default\":\"wrap\",\"kind\":null,\"name\":\"flex_wrap\"},{\"default\":\"flex-start\",\"kind\":null,\"name\":\"justify_content\"}]},{\"extends\":null,\"module\":null,\"name\":\"TemplateActions1\",\"overrides\":[],\"properties\":[{\"default\":0,\"kind\":null,\"name\":\"open_modal\"},{\"default\":0,\"kind\":null,\"name\":\"close_modal\"}]},{\"extends\":null,\"module\":null,\"name\":\"MaterialTemplateActions1\",\"overrides\":[],\"properties\":[{\"default\":0,\"kind\":null,\"name\":\"open_modal\"},{\"default\":0,\"kind\":null,\"name\":\"close_modal\"}]}],\"roots\":{\"references\":[{\"attributes\":{},\"id\":\"12260\",\"type\":\"Selection\"},{\"attributes\":{},\"id\":\"12248\",\"type\":\"AllLabels\"},{\"attributes\":{\"below\":[{\"id\":\"12175\"}],\"center\":[{\"id\":\"12177\"},{\"id\":\"12181\"},{\"id\":\"12262\"}],\"height\":400,\"left\":[{\"id\":\"12178\"}],\"margin\":[5,5,5,5],\"min_border_bottom\":10,\"min_border_left\":10,\"min_border_right\":10,\"min_border_top\":10,\"renderers\":[{\"id\":\"12199\"},{\"id\":\"12207\"},{\"id\":\"12215\"},{\"id\":\"12223\"},{\"id\":\"12231\"},{\"id\":\"12240\"},{\"id\":\"12271\"}],\"sizing_mode\":\"fixed\",\"title\":{\"id\":\"12167\"},\"toolbar\":{\"id\":\"12188\"},\"width\":650,\"x_range\":{\"id\":\"12164\"},\"x_scale\":{\"id\":\"12171\"},\"y_range\":{\"id\":\"12165\"},\"y_scale\":{\"id\":\"12173\"}},\"id\":\"12166\",\"subtype\":\"Figure\",\"type\":\"Plot\"},{\"attributes\":{\"bottom\":{\"field\":\"bottom\"},\"fill_alpha\":{\"value\":1.0},\"fill_color\":{\"value\":\"orange\"},\"hatch_alpha\":{\"value\":1.0},\"hatch_color\":{\"value\":\"black\"},\"hatch_scale\":{\"value\":12.0},\"hatch_weight\":{\"value\":1.0},\"line_alpha\":{\"value\":1.0},\"line_cap\":{\"value\":\"butt\"},\"line_color\":{\"value\":\"black\"},\"line_dash\":{\"value\":[]},\"line_dash_offset\":{\"value\":0},\"line_join\":{\"value\":\"bevel\"},\"line_width\":{\"value\":1},\"top\":{\"field\":\"top\"},\"width\":{\"value\":0.7},\"x\":{\"field\":\"index\"}},\"id\":\"12264\",\"type\":\"VBar\"},{\"attributes\":{\"bottom\":{\"field\":\"bottom\"},\"fill_color\":{\"value\":\"orange\"},\"top\":{\"field\":\"top\"},\"width\":{\"value\":0.7},\"x\":{\"field\":\"index\"}},\"id\":\"12236\",\"type\":\"VBar\"},{\"attributes\":{\"axis\":{\"id\":\"12175\"},\"coordinates\":null,\"grid_line_color\":null,\"group\":null,\"ticker\":null},\"id\":\"12177\",\"type\":\"Grid\"},{\"attributes\":{},\"id\":\"12171\",\"type\":\"CategoricalScale\"},{\"attributes\":{},\"id\":\"12249\",\"type\":\"UnionRenderers\"},{\"attributes\":{\"line_alpha\":{\"value\":0.1},\"x0\":{\"field\":\"x0\"},\"x1\":{\"field\":\"x1\"},\"y0\":{\"field\":\"y0\"},\"y1\":{\"field\":\"y1\"}},\"id\":\"12221\",\"type\":\"Segment\"},{\"attributes\":{},\"id\":\"12299\",\"type\":\"UnionRenderers\"},{\"attributes\":{\"coordinates\":null,\"data_source\":{\"id\":\"12194\"},\"glyph\":{\"id\":\"12196\"},\"group\":null,\"hover_glyph\":null,\"muted_glyph\":{\"id\":\"12198\"},\"nonselection_glyph\":{\"id\":\"12197\"},\"selection_glyph\":{\"id\":\"12201\"},\"view\":{\"id\":\"12200\"}},\"id\":\"12199\",\"type\":\"GlyphRenderer\"},{\"attributes\":{\"line_alpha\":{\"value\":1.0},\"line_cap\":{\"value\":\"butt\"},\"line_color\":{\"value\":\"black\"},\"line_dash\":{\"value\":[]},\"line_dash_offset\":{\"value\":0},\"line_join\":{\"value\":\"bevel\"},\"line_width\":{\"value\":1},\"x0\":{\"field\":\"x0\"},\"x1\":{\"field\":\"x1\"},\"y0\":{\"field\":\"y0\"},\"y1\":{\"field\":\"y1\"}},\"id\":\"12209\",\"type\":\"Segment\"},{\"attributes\":{},\"id\":\"12250\",\"type\":\"Selection\"},{\"attributes\":{\"line_alpha\":{\"value\":1.0},\"line_cap\":{\"value\":\"butt\"},\"line_color\":{\"value\":\"black\"},\"line_dash\":{\"value\":[]},\"line_dash_offset\":{\"value\":0},\"line_join\":{\"value\":\"bevel\"},\"line_width\":{\"value\":1},\"x0\":{\"field\":\"x0\"},\"x1\":{\"field\":\"x1\"},\"y0\":{\"field\":\"y0\"},\"y1\":{\"field\":\"y1\"}},\"id\":\"12233\",\"type\":\"Segment\"},{\"attributes\":{\"fill_color\":{\"value\":\"black\"},\"x\":{\"field\":\"index\"},\"y\":{\"field\":\"Return_Values_left_parenthesis_Degrees_C_right_parenthesis\"}},\"id\":\"12196\",\"type\":\"Circle\"},{\"attributes\":{\"coordinates\":null,\"data_source\":{\"id\":\"12210\"},\"glyph\":{\"id\":\"12212\"},\"group\":null,\"hover_glyph\":null,\"muted_glyph\":{\"id\":\"12214\"},\"nonselection_glyph\":{\"id\":\"12213\"},\"selection_glyph\":{\"id\":\"12217\"},\"view\":{\"id\":\"12216\"}},\"id\":\"12215\",\"type\":\"GlyphRenderer\"},{\"attributes\":{\"factors\":[\"Historical 1980-99\",\"SSP3-7.0 2020-39\",\"SSP3-7.0 2040-59\",\"SSP3-7.0 2060-79\",\"SSP3-7.0 2080-99\"],\"tags\":[[[\"Climate Models\",\"Climate Models\",null]]]},\"id\":\"12164\",\"type\":\"FactorRange\"},{\"attributes\":{\"bottom\":{\"field\":\"bottom\"},\"fill_color\":{\"value\":\"blue\"},\"hatch_color\":{\"value\":\"blue\"},\"line_color\":{\"value\":\"blue\"},\"top\":{\"field\":\"top\"},\"width\":{\"value\":0.7},\"x\":{\"field\":\"index\"}},\"id\":\"12238\",\"type\":\"VBar\"},{\"attributes\":{\"line_alpha\":{\"value\":0.1},\"x0\":{\"field\":\"x0\"},\"x1\":{\"field\":\"x1\"},\"y0\":{\"field\":\"y0\"},\"y1\":{\"field\":\"y1\"}},\"id\":\"12205\",\"type\":\"Segment\"},{\"attributes\":{},\"id\":\"12173\",\"type\":\"LinearScale\"},{\"attributes\":{\"source\":{\"id\":\"12202\"}},\"id\":\"12208\",\"type\":\"CDSView\"},{\"attributes\":{},\"id\":\"12259\",\"type\":\"UnionRenderers\"},{\"attributes\":{\"axis_label\":\"Climate Models\",\"coordinates\":null,\"formatter\":{\"id\":\"12247\"},\"group\":null,\"major_label_policy\":{\"id\":\"12248\"},\"ticker\":{\"id\":\"12176\"}},\"id\":\"12175\",\"type\":\"CategoricalAxis\"},{\"attributes\":{\"x0\":{\"field\":\"x0\"},\"x1\":{\"field\":\"x1\"},\"y0\":{\"field\":\"y0\"},\"y1\":{\"field\":\"y1\"}},\"id\":\"12228\",\"type\":\"Segment\"},{\"attributes\":{\"end\":59.264826,\"reset_end\":59.264826,\"reset_start\":13.668114,\"start\":13.668114,\"tags\":[[[\"Return Values (Degrees C)\",\"Return Values (Degrees C)\",null]]]},\"id\":\"12165\",\"type\":\"Range1d\"},{\"attributes\":{},\"id\":\"12179\",\"type\":\"BasicTicker\"},{\"attributes\":{\"coordinates\":null,\"group\":null,\"text\":\"CESM2 Return Values for 1-in-10-year Event\",\"text_color\":\"black\",\"text_font_size\":\"12pt\"},\"id\":\"12167\",\"type\":\"Title\"},{\"attributes\":{},\"id\":\"12176\",\"type\":\"CategoricalTicker\"},{\"attributes\":{\"source\":{\"id\":\"12210\"}},\"id\":\"12216\",\"type\":\"CDSView\"},{\"attributes\":{},\"id\":\"12251\",\"type\":\"UnionRenderers\"},{\"attributes\":{},\"id\":\"12252\",\"type\":\"Selection\"},{\"attributes\":{\"axis_label\":\"Return Values (Degrees C)\",\"coordinates\":null,\"formatter\":{\"id\":\"12244\"},\"group\":null,\"major_label_policy\":{\"id\":\"12245\"},\"ticker\":{\"id\":\"12179\"}},\"id\":\"12178\",\"type\":\"LinearAxis\"},{\"attributes\":{\"coordinates\":null,\"data_source\":{\"id\":\"12234\"},\"glyph\":{\"id\":\"12236\"},\"group\":null,\"hover_glyph\":{\"id\":\"12238\"},\"muted_glyph\":{\"id\":\"12239\"},\"nonselection_glyph\":{\"id\":\"12237\"},\"selection_glyph\":{\"id\":\"12264\"},\"view\":{\"id\":\"12241\"}},\"id\":\"12240\",\"type\":\"GlyphRenderer\"},{\"attributes\":{\"axis\":{\"id\":\"12178\"},\"coordinates\":null,\"dimension\":1,\"grid_line_color\":null,\"group\":null,\"ticker\":null},\"id\":\"12181\",\"type\":\"Grid\"},{\"attributes\":{},\"id\":\"12183\",\"type\":\"PanTool\"},{\"attributes\":{},\"id\":\"12184\",\"type\":\"WheelZoomTool\"},{\"attributes\":{},\"id\":\"12182\",\"type\":\"SaveTool\"},{\"attributes\":{\"overlay\":{\"id\":\"12187\"}},\"id\":\"12185\",\"type\":\"BoxZoomTool\"},{\"attributes\":{\"line_alpha\":{\"value\":0.1},\"x0\":{\"field\":\"x0\"},\"x1\":{\"field\":\"x1\"},\"y0\":{\"field\":\"y0\"},\"y1\":{\"field\":\"y1\"}},\"id\":\"12229\",\"type\":\"Segment\"},{\"attributes\":{\"source\":{\"id\":\"12226\"}},\"id\":\"12232\",\"type\":\"CDSView\"},{\"attributes\":{},\"id\":\"12186\",\"type\":\"ResetTool\"},{\"attributes\":{\"coordinates\":null,\"data_source\":{\"id\":\"12265\"},\"glyph\":{\"id\":\"12267\"},\"group\":null,\"hover_glyph\":{\"id\":\"12269\"},\"muted_glyph\":{\"id\":\"12270\"},\"nonselection_glyph\":{\"id\":\"12268\"},\"selection_glyph\":{\"id\":\"12273\"},\"view\":{\"id\":\"12272\"}},\"id\":\"12271\",\"type\":\"GlyphRenderer\"},{\"attributes\":{},\"id\":\"12253\",\"type\":\"UnionRenderers\"},{\"attributes\":{\"bottom_units\":\"screen\",\"coordinates\":null,\"fill_alpha\":0.5,\"fill_color\":\"lightgrey\",\"group\":null,\"left_units\":\"screen\",\"level\":\"overlay\",\"line_alpha\":1.0,\"line_color\":\"black\",\"line_dash\":[4,4],\"line_width\":2,\"right_units\":\"screen\",\"syncable\":false,\"top_units\":\"screen\"},\"id\":\"12187\",\"type\":\"BoxAnnotation\"},{\"attributes\":{\"x0\":{\"field\":\"x0\"},\"x1\":{\"field\":\"x1\"},\"y0\":{\"field\":\"y0\"},\"y1\":{\"field\":\"y1\"}},\"id\":\"12212\",\"type\":\"Segment\"},{\"attributes\":{},\"id\":\"12254\",\"type\":\"Selection\"},{\"attributes\":{\"coordinates\":null,\"data_source\":{\"id\":\"12226\"},\"glyph\":{\"id\":\"12228\"},\"group\":null,\"hover_glyph\":null,\"muted_glyph\":{\"id\":\"12230\"},\"nonselection_glyph\":{\"id\":\"12229\"},\"selection_glyph\":{\"id\":\"12233\"},\"view\":{\"id\":\"12232\"}},\"id\":\"12231\",\"type\":\"GlyphRenderer\"},{\"attributes\":{\"line_alpha\":{\"value\":0.2},\"x0\":{\"field\":\"x0\"},\"x1\":{\"field\":\"x1\"},\"y0\":{\"field\":\"y0\"},\"y1\":{\"field\":\"y1\"}},\"id\":\"12222\",\"type\":\"Segment\"},{\"attributes\":{\"line_alpha\":{\"value\":0.2},\"x0\":{\"field\":\"x0\"},\"x1\":{\"field\":\"x1\"},\"y0\":{\"field\":\"y0\"},\"y1\":{\"field\":\"y1\"}},\"id\":\"12230\",\"type\":\"Segment\"},{\"attributes\":{\"x0\":{\"field\":\"x0\"},\"x1\":{\"field\":\"x1\"},\"y0\":{\"field\":\"y0\"},\"y1\":{\"field\":\"y1\"}},\"id\":\"12204\",\"type\":\"Segment\"},{\"attributes\":{\"data\":{\"bottom\":{\"__ndarray__\":\"6Q5iZwr9Q0Bvu9Bcp2FFQNwuNNdpeEVA+8vuycN2RUBvu9Bcp2FFQA==\",\"dtype\":\"float64\",\"order\":\"little\",\"shape\":[5]},\"index\":[\"Historical 1980-99\",\"SSP3-7.0 2020-39\",\"SSP3-7.0 2040-59\",\"SSP3-7.0 2060-79\",\"SSP3-7.0 2080-99\"],\"top\":{\"__ndarray__\":\"5SfVPh3fQUDvG197ZoFDQKJFtvP9wENAijxJumbaQ0DvG197ZoFDQA==\",\"dtype\":\"float64\",\"order\":\"little\",\"shape\":[5]}},\"selected\":{\"id\":\"12300\"},\"selection_policy\":{\"id\":\"12299\"}},\"id\":\"12265\",\"type\":\"ColumnDataSource\"},{\"attributes\":{\"source\":{\"id\":\"12194\"}},\"id\":\"12200\",\"type\":\"CDSView\"},{\"attributes\":{\"fill_alpha\":{\"value\":0.2},\"fill_color\":{\"value\":\"black\"},\"hatch_alpha\":{\"value\":0.2},\"line_alpha\":{\"value\":0.2},\"x\":{\"field\":\"index\"},\"y\":{\"field\":\"Return_Values_left_parenthesis_Degrees_C_right_parenthesis\"}},\"id\":\"12198\",\"type\":\"Circle\"},{\"attributes\":{\"data\":{\"x0\":[[\"Historical 1980-99\",-0.2],[\"SSP3-7.0 2020-39\",-0.2],[\"SSP3-7.0 2040-59\",-0.2],[\"SSP3-7.0 2060-79\",-0.2],[\"SSP3-7.0 2080-99\",-0.2]],\"x1\":[[\"Historical 1980-99\",0.2],[\"SSP3-7.0 2020-39\",0.2],[\"SSP3-7.0 2040-59\",0.2],[\"SSP3-7.0 2060-79\",0.2],[\"SSP3-7.0 2080-99\",0.2]],\"y0\":[52.11584,54.13544,55.4651,55.21268,54.13544],\"y1\":[52.11584,54.13544,55.4651,55.21268,54.13544]},\"selected\":{\"id\":\"12258\"},\"selection_policy\":{\"id\":\"12257\"}},\"id\":\"12226\",\"type\":\"ColumnDataSource\"},{\"attributes\":{\"x0\":{\"field\":\"x0\"},\"x1\":{\"field\":\"x1\"},\"y0\":{\"field\":\"y0\"},\"y1\":{\"field\":\"y1\"}},\"id\":\"12220\",\"type\":\"Segment\"},{\"attributes\":{},\"id\":\"12255\",\"type\":\"UnionRenderers\"},{\"attributes\":{\"fill_alpha\":{\"value\":0.1},\"fill_color\":{\"value\":\"black\"},\"hatch_alpha\":{\"value\":0.1},\"line_alpha\":{\"value\":0.1},\"x\":{\"field\":\"index\"},\"y\":{\"field\":\"Return_Values_left_parenthesis_Degrees_C_right_parenthesis\"}},\"id\":\"12197\",\"type\":\"Circle\"},{\"attributes\":{\"line_alpha\":{\"value\":1.0},\"line_cap\":{\"value\":\"butt\"},\"line_color\":{\"value\":\"black\"},\"line_dash\":{\"value\":[]},\"line_dash_offset\":{\"value\":0},\"line_join\":{\"value\":\"bevel\"},\"line_width\":{\"value\":1},\"x0\":{\"field\":\"x0\"},\"x1\":{\"field\":\"x1\"},\"y0\":{\"field\":\"y0\"},\"y1\":{\"field\":\"y1\"}},\"id\":\"12217\",\"type\":\"Segment\"},{\"attributes\":{\"coordinates\":null,\"group\":null,\"items\":[]},\"id\":\"12262\",\"type\":\"Legend\"},{\"attributes\":{},\"id\":\"12256\",\"type\":\"Selection\"},{\"attributes\":{\"data\":{\"x0\":[\"Historical 1980-99\",\"SSP3-7.0 2020-39\",\"SSP3-7.0 2040-59\",\"SSP3-7.0 2060-79\",\"SSP3-7.0 2080-99\"],\"x1\":[\"Historical 1980-99\",\"SSP3-7.0 2020-39\",\"SSP3-7.0 2040-59\",\"SSP3-7.0 2060-79\",\"SSP3-7.0 2080-99\"],\"y0\":{\"__ndarray__\":\"ahg+IqbkN0BgzQGCOdo7QN52oblO+zxA6IcRwqOFPUBgzQGCOdo7QA==\",\"dtype\":\"float64\",\"order\":\"little\",\"shape\":[5]},\"y1\":{\"__ndarray__\":\"5SfVPh3fQUDvG197ZoFDQKJFtvP9wENAijxJumbaQ0DvG197ZoFDQA==\",\"dtype\":\"float64\",\"order\":\"little\",\"shape\":[5]}},\"selected\":{\"id\":\"12254\"},\"selection_policy\":{\"id\":\"12253\"}},\"id\":\"12210\",\"type\":\"ColumnDataSource\"},{\"attributes\":{\"bottom\":{\"field\":\"bottom\"},\"fill_color\":{\"value\":\"blue\"},\"hatch_color\":{\"value\":\"blue\"},\"line_color\":{\"value\":\"blue\"},\"top\":{\"field\":\"top\"},\"width\":{\"value\":0.7},\"x\":{\"field\":\"index\"}},\"id\":\"12269\",\"type\":\"VBar\"},{\"attributes\":{\"bottom\":{\"field\":\"bottom\"},\"fill_alpha\":{\"value\":0.1},\"fill_color\":{\"value\":\"orange\"},\"hatch_alpha\":{\"value\":0.1},\"line_alpha\":{\"value\":0.1},\"top\":{\"field\":\"top\"},\"width\":{\"value\":0.7},\"x\":{\"field\":\"index\"}},\"id\":\"12268\",\"type\":\"VBar\"},{\"attributes\":{\"tools\":[{\"id\":\"12182\"},{\"id\":\"12183\"},{\"id\":\"12184\"},{\"id\":\"12185\"},{\"id\":\"12186\"}]},\"id\":\"12188\",\"type\":\"Toolbar\"},{\"attributes\":{\"line_alpha\":{\"value\":0.2},\"x0\":{\"field\":\"x0\"},\"x1\":{\"field\":\"x1\"},\"y0\":{\"field\":\"y0\"},\"y1\":{\"field\":\"y1\"}},\"id\":\"12214\",\"type\":\"Segment\"},{\"attributes\":{\"source\":{\"id\":\"12265\"}},\"id\":\"12272\",\"type\":\"CDSView\"},{\"attributes\":{\"coordinates\":null,\"data_source\":{\"id\":\"12202\"},\"glyph\":{\"id\":\"12204\"},\"group\":null,\"hover_glyph\":null,\"muted_glyph\":{\"id\":\"12206\"},\"nonselection_glyph\":{\"id\":\"12205\"},\"selection_glyph\":{\"id\":\"12209\"},\"view\":{\"id\":\"12208\"}},\"id\":\"12207\",\"type\":\"GlyphRenderer\"},{\"attributes\":{\"data\":{\"x0\":[[\"Historical 1980-99\",-0.2],[\"SSP3-7.0 2020-39\",-0.2],[\"SSP3-7.0 2040-59\",-0.2],[\"SSP3-7.0 2060-79\",-0.2],[\"SSP3-7.0 2080-99\",-0.2]],\"x1\":[[\"Historical 1980-99\",0.2],[\"SSP3-7.0 2020-39\",0.2],[\"SSP3-7.0 2040-59\",0.2],[\"SSP3-7.0 2060-79\",0.2],[\"SSP3-7.0 2080-99\",0.2]],\"y0\":[23.89316,27.85244,28.98167,29.52203,27.85244],\"y1\":[23.89316,27.85244,28.98167,29.52203,27.85244]},\"selected\":{\"id\":\"12256\"},\"selection_policy\":{\"id\":\"12255\"}},\"id\":\"12218\",\"type\":\"ColumnDataSource\"},{\"attributes\":{\"margin\":[5,5,5,5],\"name\":\"HSpacer17913\",\"sizing_mode\":\"stretch_width\"},\"id\":\"12163\",\"type\":\"Spacer\"},{\"attributes\":{\"bottom\":{\"field\":\"bottom\"},\"fill_alpha\":{\"value\":0.1},\"fill_color\":{\"value\":\"orange\"},\"hatch_alpha\":{\"value\":0.1},\"line_alpha\":{\"value\":0.1},\"top\":{\"field\":\"top\"},\"width\":{\"value\":0.7},\"x\":{\"field\":\"index\"}},\"id\":\"12237\",\"type\":\"VBar\"},{\"attributes\":{},\"id\":\"12257\",\"type\":\"UnionRenderers\"},{\"attributes\":{\"source\":{\"id\":\"12234\"}},\"id\":\"12241\",\"type\":\"CDSView\"},{\"attributes\":{\"bottom\":{\"field\":\"bottom\"},\"fill_color\":{\"value\":\"orange\"},\"top\":{\"field\":\"top\"},\"width\":{\"value\":0.7},\"x\":{\"field\":\"index\"}},\"id\":\"12267\",\"type\":\"VBar\"},{\"attributes\":{},\"id\":\"12300\",\"type\":\"Selection\"},{\"attributes\":{\"bottom\":{\"field\":\"bottom\"},\"fill_alpha\":{\"value\":1.0},\"fill_color\":{\"value\":\"orange\"},\"hatch_alpha\":{\"value\":1.0},\"hatch_color\":{\"value\":\"black\"},\"hatch_scale\":{\"value\":12.0},\"hatch_weight\":{\"value\":1.0},\"line_alpha\":{\"value\":1.0},\"line_cap\":{\"value\":\"butt\"},\"line_color\":{\"value\":\"black\"},\"line_dash\":{\"value\":[]},\"line_dash_offset\":{\"value\":0},\"line_join\":{\"value\":\"bevel\"},\"line_width\":{\"value\":1},\"top\":{\"field\":\"top\"},\"width\":{\"value\":0.7},\"x\":{\"field\":\"index\"}},\"id\":\"12273\",\"type\":\"VBar\"},{\"attributes\":{\"bottom\":{\"field\":\"bottom\"},\"fill_alpha\":{\"value\":0.2},\"fill_color\":{\"value\":\"orange\"},\"hatch_alpha\":{\"value\":0.2},\"line_alpha\":{\"value\":0.2},\"top\":{\"field\":\"top\"},\"width\":{\"value\":0.7},\"x\":{\"field\":\"index\"}},\"id\":\"12270\",\"type\":\"VBar\"},{\"attributes\":{\"line_alpha\":{\"value\":0.1},\"x0\":{\"field\":\"x0\"},\"x1\":{\"field\":\"x1\"},\"y0\":{\"field\":\"y0\"},\"y1\":{\"field\":\"y1\"}},\"id\":\"12213\",\"type\":\"Segment\"},{\"attributes\":{},\"id\":\"12258\",\"type\":\"Selection\"},{\"attributes\":{\"data\":{\"x0\":[\"Historical 1980-99\",\"SSP3-7.0 2020-39\",\"SSP3-7.0 2040-59\",\"SSP3-7.0 2060-79\",\"SSP3-7.0 2080-99\"],\"x1\":[\"Historical 1980-99\",\"SSP3-7.0 2020-39\",\"SSP3-7.0 2040-59\",\"SSP3-7.0 2060-79\",\"SSP3-7.0 2080-99\"],\"y0\":{\"__ndarray__\":\"ychZ2NMOSkD+SBEZVhFLQE+vlGWIu0tAs0EmGTmbS0D+SBEZVhFLQA==\",\"dtype\":\"float64\",\"order\":\"little\",\"shape\":[5]},\"y1\":{\"__ndarray__\":\"YHZPHhbaRUCsxacAGDtHQDFfXoB9SEdAvrwA++hAR0CsxacAGDtHQA==\",\"dtype\":\"float64\",\"order\":\"little\",\"shape\":[5]}},\"selected\":{\"id\":\"12252\"},\"selection_policy\":{\"id\":\"12251\"}},\"id\":\"12202\",\"type\":\"ColumnDataSource\"},{\"attributes\":{\"margin\":[5,5,5,5],\"name\":\"HSpacer17914\",\"sizing_mode\":\"stretch_width\"},\"id\":\"12324\",\"type\":\"Spacer\"},{\"attributes\":{\"children\":[{\"id\":\"12163\"},{\"id\":\"12166\"},{\"id\":\"12324\"}],\"margin\":[0,0,0,0],\"name\":\"Row17909\",\"tags\":[\"embedded\"]},\"id\":\"12162\",\"type\":\"Row\"},{\"attributes\":{\"bottom\":{\"field\":\"bottom\"},\"fill_alpha\":{\"value\":0.2},\"fill_color\":{\"value\":\"orange\"},\"hatch_alpha\":{\"value\":0.2},\"line_alpha\":{\"value\":0.2},\"top\":{\"field\":\"top\"},\"width\":{\"value\":0.7},\"x\":{\"field\":\"index\"}},\"id\":\"12239\",\"type\":\"VBar\"},{\"attributes\":{\"line_alpha\":{\"value\":1.0},\"line_cap\":{\"value\":\"butt\"},\"line_color\":{\"value\":\"black\"},\"line_dash\":{\"value\":[]},\"line_dash_offset\":{\"value\":0},\"line_join\":{\"value\":\"bevel\"},\"line_width\":{\"value\":1},\"x0\":{\"field\":\"x0\"},\"x1\":{\"field\":\"x1\"},\"y0\":{\"field\":\"y0\"},\"y1\":{\"field\":\"y1\"}},\"id\":\"12225\",\"type\":\"Segment\"},{\"attributes\":{},\"id\":\"12244\",\"type\":\"BasicTickFormatter\"},{\"attributes\":{\"line_alpha\":{\"value\":0.2},\"x0\":{\"field\":\"x0\"},\"x1\":{\"field\":\"x1\"},\"y0\":{\"field\":\"y0\"},\"y1\":{\"field\":\"y1\"}},\"id\":\"12206\",\"type\":\"Segment\"},{\"attributes\":{\"data\":{\"Return Values (Degrees C)\":{\"__ndarray__\":\"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\",\"dtype\":\"float64\",\"order\":\"little\",\"shape\":[364]},\"Return_Values_left_parenthesis_Degrees_C_right_parenthesis\":{\"__ndarray__\":\"\",\"dtype\":\"float64\",\"order\":\"little\",\"shape\":[0]},\"index\":[\"Historical 1980-99\",\"Historical 1980-99\",\"Historical 1980-99\",\"Historical 1980-99\",\"Historical 1980-99\",\"Historical 1980-99\",\"Historical 1980-99\",\"Historical 1980-99\",\"Historical 1980-99\",\"Historical 1980-99\",\"Historical 1980-99\",\"Historical 1980-99\",\"Historical 1980-99\",\"Historical 1980-99\",\"Historical 1980-99\",\"Historical 1980-99\",\"Historical 1980-99\",\"Historical 1980-99\",\"Historical 1980-99\",\"Historical 1980-99\",\"Historical 1980-99\",\"Historical 1980-99\",\"Historical 1980-99\",\"Historical 1980-99\",\"Historical 1980-99\",\"Historical 1980-99\",\"Historical 1980-99\",\"Historical 1980-99\",\"Historical 1980-99\",\"Historical 1980-99\",\"Historical 1980-99\",\"Historical 1980-99\",\"Historical 1980-99\",\"Historical 1980-99\",\"Historical 1980-99\",\"Historical 1980-99\",\"Historical 1980-99\",\"Historical 1980-99\",\"Historical 1980-99\",\"Historical 1980-99\",\"Historical 1980-99\",\"Historical 1980-99\",\"Historical 1980-99\",\"Historical 1980-99\",\"Historical 1980-99\",\"Historical 1980-99\",\"Historical 1980-99\",\"Historical 1980-99\",\"Historical 1980-99\",\"Historical 1980-99\",\"Historical 1980-99\",\"Historical 1980-99\",\"Historical 1980-99\",\"Historical 1980-99\",\"Historical 1980-99\",\"Historical 1980-99\",\"Historical 1980-99\",\"Historical 1980-99\",\"Historical 1980-99\",\"Historical 1980-99\",\"Historical 1980-99\",\"SSP3-7.0 2020-39\",\"SSP3-7.0 2020-39\",\"SSP3-7.0 2020-39\",\"SSP3-7.0 2020-39\",\"SSP3-7.0 2020-39\",\"SSP3-7.0 2020-39\",\"SSP3-7.0 2020-39\",\"SSP3-7.0 2020-39\",\"SSP3-7.0 2020-39\",\"SSP3-7.0 2020-39\",\"SSP3-7.0 2020-39\",\"SSP3-7.0 2020-39\",\"SSP3-7.0 2020-39\",\"SSP3-7.0 2020-39\",\"SSP3-7.0 2020-39\",\"SSP3-7.0 2020-39\",\"SSP3-7.0 2020-39\",\"SSP3-7.0 2020-39\",\"SSP3-7.0 2020-39\",\"SSP3-7.0 2020-39\",\"SSP3-7.0 2020-39\",\"SSP3-7.0 2020-39\",\"SSP3-7.0 2020-39\",\"SSP3-7.0 2020-39\",\"SSP3-7.0 2020-39\",\"SSP3-7.0 2020-39\",\"SSP3-7.0 2020-39\",\"SSP3-7.0 2020-39\",\"SSP3-7.0 2020-39\",\"SSP3-7.0 2020-39\",\"SSP3-7.0 2020-39\",\"SSP3-7.0 2020-39\",\"SSP3-7.0 2020-39\",\"SSP3-7.0 2020-39\",\"SSP3-7.0 2020-39\",\"SSP3-7.0 2020-39\",\"SSP3-7.0 2020-39\",\"SSP3-7.0 2020-39\",\"SSP3-7.0 2020-39\",\"SSP3-7.0 2020-39\",\"SSP3-7.0 2020-39\",\"SSP3-7.0 2020-39\",\"SSP3-7.0 2020-39\",\"SSP3-7.0 2020-39\",\"SSP3-7.0 2020-39\",\"SSP3-7.0 2020-39\",\"SSP3-7.0 2020-39\",\"SSP3-7.0 2020-39\",\"SSP3-7.0 2020-39\",\"SSP3-7.0 2020-39\",\"SSP3-7.0 2020-39\",\"SSP3-7.0 2020-39\",\"SSP3-7.0 2020-39\",\"SSP3-7.0 2020-39\",\"SSP3-7.0 2020-39\",\"SSP3-7.0 2020-39\",\"SSP3-7.0 2020-39\",\"SSP3-7.0 2020-39\",\"SSP3-7.0 2020-39\",\"SSP3-7.0 2020-39\",\"SSP3-7.0 2020-39\",\"SSP3-7.0 2020-39\",\"SSP3-7.0 2020-39\",\"SSP3-7.0 2020-39\",\"SSP3-7.0 2020-39\",\"SSP3-7.0 2020-39\",\"SSP3-7.0 2020-39\",\"SSP3-7.0 2020-39\",\"SSP3-7.0 2020-39\",\"SSP3-7.0 2020-39\",\"SSP3-7.0 2020-39\",\"SSP3-7.0 2040-59\",\"SSP3-7.0 2040-59\",\"SSP3-7.0 2040-59\",\"SSP3-7.0 2040-59\",\"SSP3-7.0 2040-59\",\"SSP3-7.0 2040-59\",\"SSP3-7.0 2040-59\",\"SSP3-7.0 2040-59\",\"SSP3-7.0 2040-59\",\"SSP3-7.0 2040-59\",\"SSP3-7.0 2040-59\",\"SSP3-7.0 2040-59\",\"SSP3-7.0 2040-59\",\"SSP3-7.0 2040-59\",\"SSP3-7.0 2040-59\",\"SSP3-7.0 2040-59\",\"SSP3-7.0 2040-59\",\"SSP3-7.0 2040-59\",\"SSP3-7.0 2040-59\",\"SSP3-7.0 2040-59\",\"SSP3-7.0 2040-59\",\"SSP3-7.0 2040-59\",\"SSP3-7.0 2040-59\",\"SSP3-7.0 2040-59\",\"SSP3-7.0 2040-59\",\"SSP3-7.0 2040-59\",\"SSP3-7.0 2040-59\",\"SSP3-7.0 2040-59\",\"SSP3-7.0 2040-59\",\"SSP3-7.0 2040-59\",\"SSP3-7.0 2040-59\",\"SSP3-7.0 2040-59\",\"SSP3-7.0 2040-59\",\"SSP3-7.0 2040-59\",\"SSP3-7.0 2040-59\",\"SSP3-7.0 2040-59\",\"SSP3-7.0 2040-59\",\"SSP3-7.0 2040-59\",\"SSP3-7.0 2040-59\",\"SSP3-7.0 2040-59\",\"SSP3-7.0 2040-59\",\"SSP3-7.0 2040-59\",\"SSP3-7.0 2040-59\",\"SSP3-7.0 2040-59\",\"SSP3-7.0 2040-59\",\"SSP3-7.0 2040-59\",\"SSP3-7.0 2040-59\",\"SSP3-7.0 2040-59\",\"SSP3-7.0 2040-59\",\"SSP3-7.0 2040-59\",\"SSP3-7.0 2040-59\",\"SSP3-7.0 2040-59\",\"SSP3-7.0 2040-59\",\"SSP3-7.0 2040-59\",\"SSP3-7.0 2040-59\",\"SSP3-7.0 2040-59\",\"SSP3-7.0 2040-59\",\"SSP3-7.0 2040-59\",\"SSP3-7.0 2040-59\",\"SSP3-7.0 2040-59\",\"SSP3-7.0 2040-59\",\"SSP3-7.0 2040-59\",\"SSP3-7.0 2040-59\",\"SSP3-7.0 2040-59\",\"SSP3-7.0 2040-59\",\"SSP3-7.0 2040-59\",\"SSP3-7.0 2040-59\",\"SSP3-7.0 2040-59\",\"SSP3-7.0 2040-59\",\"SSP3-7.0 2040-59\",\"SSP3-7.0 2040-59\",\"SSP3-7.0 2040-59\",\"SSP3-7.0 2040-59\",\"SSP3-7.0 2040-59\",\"SSP3-7.0 2040-59\",\"SSP3-7.0 2060-79\",\"SSP3-7.0 2060-79\",\"SSP3-7.0 2060-79\",\"SSP3-7.0 2060-79\",\"SSP3-7.0 2060-79\",\"SSP3-7.0 2060-79\",\"SSP3-7.0 2060-79\",\"SSP3-7.0 2060-79\",\"SSP3-7.0 2060-79\",\"SSP3-7.0 2060-79\",\"SSP3-7.0 2060-79\",\"SSP3-7.0 2060-79\",\"SSP3-7.0 2060-79\",\"SSP3-7.0 2060-79\",\"SSP3-7.0 2060-79\",\"SSP3-7.0 2060-79\",\"SSP3-7.0 2060-79\",\"SSP3-7.0 2060-79\",\"SSP3-7.0 2060-79\",\"SSP3-7.0 2060-79\",\"SSP3-7.0 2060-79\",\"SSP3-7.0 2060-79\",\"SSP3-7.0 2060-79\",\"SSP3-7.0 2060-79\",\"SSP3-7.0 2060-79\",\"SSP3-7.0 2060-79\",\"SSP3-7.0 2060-79\",\"SSP3-7.0 2060-79\",\"SSP3-7.0 2060-79\",\"SSP3-7.0 2060-79\",\"SSP3-7.0 2060-79\",\"SSP3-7.0 2060-79\",\"SSP3-7.0 2060-79\",\"SSP3-7.0 2060-79\",\"SSP3-7.0 2060-79\",\"SSP3-7.0 2060-79\",\"SSP3-7.0 2060-79\",\"SSP3-7.0 2060-79\",\"SSP3-7.0 2060-79\",\"SSP3-7.0 2060-79\",\"SSP3-7.0 2060-79\",\"SSP3-7.0 2060-79\",\"SSP3-7.0 2060-79\",\"SSP3-7.0 2060-79\",\"SSP3-7.0 2060-79\",\"SSP3-7.0 2060-79\",\"SSP3-7.0 2060-79\",\"SSP3-7.0 2060-79\",\"SSP3-7.0 2060-79\",\"SSP3-7.0 2060-79\",\"SSP3-7.0 2060-79\",\"SSP3-7.0 2060-79\",\"SSP3-7.0 2060-79\",\"SSP3-7.0 2060-79\",\"SSP3-7.0 2060-79\",\"SSP3-7.0 2060-79\",\"SSP3-7.0 2060-79\",\"SSP3-7.0 2060-79\",\"SSP3-7.0 2060-79\",\"SSP3-7.0 2060-79\",\"SSP3-7.0 2060-79\",\"SSP3-7.0 2060-79\",\"SSP3-7.0 2060-79\",\"SSP3-7.0 2060-79\",\"SSP3-7.0 2060-79\",\"SSP3-7.0 2060-79\",\"SSP3-7.0 2060-79\",\"SSP3-7.0 2060-79\",\"SSP3-7.0 2060-79\",\"SSP3-7.0 2060-79\",\"SSP3-7.0 2060-79\",\"SSP3-7.0 2060-79\",\"SSP3-7.0 2060-79\",\"SSP3-7.0 2060-79\",\"SSP3-7.0 2060-79\",\"SSP3-7.0 2060-79\",\"SSP3-7.0 2060-79\",\"SSP3-7.0 2060-79\",\"SSP3-7.0 2060-79\",\"SSP3-7.0 2060-79\",\"SSP3-7.0 2060-79\",\"SSP3-7.0 2060-79\",\"SSP3-7.0 2060-79\",\"SSP3-7.0 2060-79\",\"SSP3-7.0 2060-79\",\"SSP3-7.0 2060-79\",\"SSP3-7.0 2080-99\",\"SSP3-7.0 2080-99\",\"SSP3-7.0 2080-99\",\"SSP3-7.0 2080-99\",\"SSP3-7.0 2080-99\",\"SSP3-7.0 2080-99\",\"SSP3-7.0 2080-99\",\"SSP3-7.0 2080-99\",\"SSP3-7.0 2080-99\",\"SSP3-7.0 2080-99\",\"SSP3-7.0 2080-99\",\"SSP3-7.0 2080-99\",\"SSP3-7.0 2080-99\",\"SSP3-7.0 2080-99\",\"SSP3-7.0 2080-99\",\"SSP3-7.0 2080-99\",\"SSP3-7.0 2080-99\",\"SSP3-7.0 2080-99\",\"SSP3-7.0 2080-99\",\"SSP3-7.0 2080-99\",\"SSP3-7.0 2080-99\",\"SSP3-7.0 2080-99\",\"SSP3-7.0 2080-99\",\"SSP3-7.0 2080-99\",\"SSP3-7.0 2080-99\",\"SSP3-7.0 2080-99\",\"SSP3-7.0 2080-99\",\"SSP3-7.0 2080-99\",\"SSP3-7.0 2080-99\",\"SSP3-7.0 2080-99\",\"SSP3-7.0 2080-99\",\"SSP3-7.0 2080-99\",\"SSP3-7.0 2080-99\",\"SSP3-7.0 2080-99\",\"SSP3-7.0 2080-99\",\"SSP3-7.0 2080-99\",\"SSP3-7.0 2080-99\",\"SSP3-7.0 2080-99\",\"SSP3-7.0 2080-99\",\"SSP3-7.0 2080-99\",\"SSP3-7.0 2080-99\",\"SSP3-7.0 2080-99\",\"SSP3-7.0 2080-99\",\"SSP3-7.0 2080-99\",\"SSP3-7.0 2080-99\",\"SSP3-7.0 2080-99\",\"SSP3-7.0 2080-99\",\"SSP3-7.0 2080-99\",\"SSP3-7.0 2080-99\",\"SSP3-7.0 2080-99\",\"SSP3-7.0 2080-99\",\"SSP3-7.0 2080-99\",\"SSP3-7.0 2080-99\",\"SSP3-7.0 2080-99\",\"SSP3-7.0 2080-99\",\"SSP3-7.0 2080-99\",\"SSP3-7.0 2080-99\",\"SSP3-7.0 2080-99\",\"SSP3-7.0 2080-99\",\"SSP3-7.0 2080-99\",\"SSP3-7.0 2080-99\",\"SSP3-7.0 2080-99\",\"SSP3-7.0 2080-99\",\"SSP3-7.0 2080-99\",\"SSP3-7.0 2080-99\",\"SSP3-7.0 2080-99\",\"SSP3-7.0 2080-99\",\"SSP3-7.0 2080-99\",\"SSP3-7.0 2080-99\",\"SSP3-7.0 2080-99\",\"SSP3-7.0 2080-99\"]},\"selected\":{\"id\":\"12250\"},\"selection_policy\":{\"id\":\"12249\"}},\"id\":\"12194\",\"type\":\"ColumnDataSource\"},{\"attributes\":{},\"id\":\"12245\",\"type\":\"AllLabels\"},{\"attributes\":{\"coordinates\":null,\"data_source\":{\"id\":\"12218\"},\"glyph\":{\"id\":\"12220\"},\"group\":null,\"hover_glyph\":null,\"muted_glyph\":{\"id\":\"12222\"},\"nonselection_glyph\":{\"id\":\"12221\"},\"selection_glyph\":{\"id\":\"12225\"},\"view\":{\"id\":\"12224\"}},\"id\":\"12223\",\"type\":\"GlyphRenderer\"},{\"attributes\":{\"source\":{\"id\":\"12218\"}},\"id\":\"12224\",\"type\":\"CDSView\"},{\"attributes\":{},\"id\":\"12247\",\"type\":\"CategoricalTickFormatter\"},{\"attributes\":{\"angle\":{\"value\":0.0},\"fill_alpha\":{\"value\":1.0},\"fill_color\":{\"value\":\"black\"},\"hatch_alpha\":{\"value\":1.0},\"hatch_color\":{\"value\":\"black\"},\"hatch_scale\":{\"value\":12.0},\"hatch_weight\":{\"value\":1.0},\"line_alpha\":{\"value\":1.0},\"line_cap\":{\"value\":\"butt\"},\"line_color\":{\"value\":\"black\"},\"line_dash\":{\"value\":[]},\"line_dash_offset\":{\"value\":0},\"line_join\":{\"value\":\"bevel\"},\"line_width\":{\"value\":1},\"size\":{\"value\":4},\"x\":{\"field\":\"index\"},\"y\":{\"field\":\"Return_Values_left_parenthesis_Degrees_C_right_parenthesis\"}},\"id\":\"12201\",\"type\":\"Circle\"},{\"attributes\":{\"data\":{\"bottom\":{\"__ndarray__\":\"YHZPHhbaRUCsxacAGDtHQDFfXoB9SEdAvrwA++hAR0CsxacAGDtHQA==\",\"dtype\":\"float64\",\"order\":\"little\",\"shape\":[5]},\"index\":[\"Historical 1980-99\",\"SSP3-7.0 2020-39\",\"SSP3-7.0 2040-59\",\"SSP3-7.0 2060-79\",\"SSP3-7.0 2080-99\"],\"top\":{\"__ndarray__\":\"6Q5iZwr9Q0Bvu9Bcp2FFQNwuNNdpeEVA+8vuycN2RUBvu9Bcp2FFQA==\",\"dtype\":\"float64\",\"order\":\"little\",\"shape\":[5]}},\"selected\":{\"id\":\"12260\"},\"selection_policy\":{\"id\":\"12259\"}},\"id\":\"12234\",\"type\":\"ColumnDataSource\"}],\"root_ids\":[\"12162\"]},\"title\":\"Bokeh Application\",\"version\":\"2.4.2\"}};\n",
       "    var render_items = [{\"docid\":\"f2e45431-32f3-4b4f-b636-23e7ef8c6f1c\",\"root_ids\":[\"12162\"],\"roots\":{\"12162\":\"233a63cb-3351-423d-9c4b-c304747a6b74\"}}];\n",
       "    root.Bokeh.embed.embed_items_notebook(docs_json, render_items);\n",
       "  }\n",
       "  if (root.Bokeh !== undefined && root.Bokeh.Panel !== undefined) {\n",
       "    embed_document(root);\n",
       "  } else {\n",
       "    var attempts = 0;\n",
       "    var timer = setInterval(function(root) {\n",
       "      if (root.Bokeh !== undefined && root.Bokeh.Panel !== undefined) {\n",
       "        clearInterval(timer);\n",
       "        embed_document(root);\n",
       "      } else if (document.readyState == \"complete\") {\n",
       "        attempts++;\n",
       "        if (attempts > 200) {\n",
       "          clearInterval(timer);\n",
       "          console.log(\"Bokeh: ERROR: Unable to run BokehJS code because BokehJS library is missing\");\n",
       "        }\n",
       "      }\n",
       "    }, 25, root)\n",
       "  }\n",
       "})(window);</script>"
      ],
      "text/plain": [
       ":BoxWhisker   [Climate Models]   (Return Values (Degrees C))"
      ]
     },
     "execution_count": 122,
     "metadata": {
      "application/vnd.holoviews_exec.v0+json": {
       "id": "12162"
      }
     },
     "output_type": "execute_result"
    }
   ],
   "source": [
    "df = cesm2_rv_df.rename(columns={'cesm2_hist_1980':'Historical 1980-99', \n",
    "                                'cesm2_ssp370_2020':'SSP3-7.0 2020-39', \n",
    "                                'cesm2_ssp370_2040':'SSP3-7.0 2040-59',\n",
    "                                'cesm2_ssp370_2060':'SSP3-7.0 2060-79',\n",
    "                                'cesm2_ssp370_2080':'SSP3-7.0 2080-99'})\n",
    "\n",
    "title = 'CESM2 Return Values for 1-in-10-year Event'\n",
    "\n",
    "cesm2_box_plot = df.hvplot.box(y=columns,\n",
    "                               width=width,\n",
    "                               height=height,\n",
    "                               title=title,\n",
    "                               box_fill_color=box_fill_color,\n",
    "                               box_hover_color=box_hover_color,\n",
    "                               group_label=group_label,\n",
    "                               value_label=value_label)\n",
    "cesm2_box_plot"
   ]
  },
  {
   "cell_type": "code",
   "execution_count": 123,
   "id": "96135492-60f3-41d0-95dd-cddc7045588d",
   "metadata": {},
   "outputs": [
    {
     "name": "stderr",
     "output_type": "stream",
     "text": [
      "BokehUserWarning: ColumnDataSource's columns must be of the same length. Current lengths: ('Return Values (Degrees C)', 371), ('Return_Values_left_parenthesis_Degrees_C_right_parenthesis', 0), ('index', 371)\n"
     ]
    },
    {
     "data": {},
     "metadata": {},
     "output_type": "display_data"
    },
    {
     "data": {
      "application/vnd.holoviews_exec.v0+json": "",
      "text/html": [
       "<div id='12436'>\n",
       "\n",
       "\n",
       "\n",
       "\n",
       "\n",
       "  <div class=\"bk-root\" id=\"7b5411b1-e921-4d0e-854a-bf890a0f004e\" data-root-id=\"12436\"></div>\n",
       "</div>\n",
       "<script type=\"application/javascript\">(function(root) {\n",
       "  function embed_document(root) {\n",
       "    var docs_json = {\"654204b6-58ac-4b55-b44b-8e456eded888\":{\"defs\":[{\"extends\":null,\"module\":null,\"name\":\"ReactiveHTML1\",\"overrides\":[],\"properties\":[]},{\"extends\":null,\"module\":null,\"name\":\"FlexBox1\",\"overrides\":[],\"properties\":[{\"default\":\"flex-start\",\"kind\":null,\"name\":\"align_content\"},{\"default\":\"flex-start\",\"kind\":null,\"name\":\"align_items\"},{\"default\":\"row\",\"kind\":null,\"name\":\"flex_direction\"},{\"default\":\"wrap\",\"kind\":null,\"name\":\"flex_wrap\"},{\"default\":\"flex-start\",\"kind\":null,\"name\":\"justify_content\"}]},{\"extends\":null,\"module\":null,\"name\":\"TemplateActions1\",\"overrides\":[],\"properties\":[{\"default\":0,\"kind\":null,\"name\":\"open_modal\"},{\"default\":0,\"kind\":null,\"name\":\"close_modal\"}]},{\"extends\":null,\"module\":null,\"name\":\"MaterialTemplateActions1\",\"overrides\":[],\"properties\":[{\"default\":0,\"kind\":null,\"name\":\"open_modal\"},{\"default\":0,\"kind\":null,\"name\":\"close_modal\"}]}],\"roots\":{\"references\":[{\"attributes\":{\"data\":{\"x0\":[\"Historical 1980-99\",\"SSP3-7.0 2020-39\",\"SSP3-7.0 2040-59\",\"SSP3-7.0 2060-79\",\"SSP3-7.0 2080-99\"],\"x1\":[\"Historical 1980-99\",\"SSP3-7.0 2020-39\",\"SSP3-7.0 2040-59\",\"SSP3-7.0 2060-79\",\"SSP3-7.0 2080-99\"],\"y0\":{\"__ndarray__\":\"dHtJY7SeNEDGUE60q9g2QBnKiXYV0jdAAfvo1JXHOUC4BrZKsDg7QA==\",\"dtype\":\"float64\",\"order\":\"little\",\"shape\":[5]},\"y1\":{\"__ndarray__\":\"rir7rgh2QECDo+TVOX5BQLzLRXwnvkFATaHzGrt8QkCZEkn0MjpDQA==\",\"dtype\":\"float64\",\"order\":\"little\",\"shape\":[5]}},\"selected\":{\"id\":\"12528\"},\"selection_policy\":{\"id\":\"12527\"}},\"id\":\"12484\",\"type\":\"ColumnDataSource\"},{\"attributes\":{\"coordinates\":null,\"data_source\":{\"id\":\"12468\"},\"glyph\":{\"id\":\"12470\"},\"group\":null,\"hover_glyph\":null,\"muted_glyph\":{\"id\":\"12472\"},\"nonselection_glyph\":{\"id\":\"12471\"},\"selection_glyph\":{\"id\":\"12475\"},\"view\":{\"id\":\"12474\"}},\"id\":\"12473\",\"type\":\"GlyphRenderer\"},{\"attributes\":{\"angle\":{\"value\":0.0},\"fill_alpha\":{\"value\":1.0},\"fill_color\":{\"value\":\"black\"},\"hatch_alpha\":{\"value\":1.0},\"hatch_color\":{\"value\":\"black\"},\"hatch_scale\":{\"value\":12.0},\"hatch_weight\":{\"value\":1.0},\"line_alpha\":{\"value\":1.0},\"line_cap\":{\"value\":\"butt\"},\"line_color\":{\"value\":\"black\"},\"line_dash\":{\"value\":[]},\"line_dash_offset\":{\"value\":0},\"line_join\":{\"value\":\"bevel\"},\"line_width\":{\"value\":1},\"size\":{\"value\":4},\"x\":{\"field\":\"index\"},\"y\":{\"field\":\"Return_Values_left_parenthesis_Degrees_C_right_parenthesis\"}},\"id\":\"12475\",\"type\":\"Circle\"},{\"attributes\":{\"coordinates\":null,\"data_source\":{\"id\":\"12484\"},\"glyph\":{\"id\":\"12486\"},\"group\":null,\"hover_glyph\":null,\"muted_glyph\":{\"id\":\"12488\"},\"nonselection_glyph\":{\"id\":\"12487\"},\"selection_glyph\":{\"id\":\"12491\"},\"view\":{\"id\":\"12490\"}},\"id\":\"12489\",\"type\":\"GlyphRenderer\"},{\"attributes\":{\"bottom\":{\"field\":\"bottom\"},\"fill_alpha\":{\"value\":0.1},\"fill_color\":{\"value\":\"orange\"},\"hatch_alpha\":{\"value\":0.1},\"line_alpha\":{\"value\":0.1},\"top\":{\"field\":\"top\"},\"width\":{\"value\":0.7},\"x\":{\"field\":\"index\"}},\"id\":\"12511\",\"type\":\"VBar\"},{\"attributes\":{},\"id\":\"12450\",\"type\":\"CategoricalTicker\"},{\"attributes\":{\"x0\":{\"field\":\"x0\"},\"x1\":{\"field\":\"x1\"},\"y0\":{\"field\":\"y0\"},\"y1\":{\"field\":\"y1\"}},\"id\":\"12494\",\"type\":\"Segment\"},{\"attributes\":{\"bottom\":{\"field\":\"bottom\"},\"fill_color\":{\"value\":\"blue\"},\"hatch_color\":{\"value\":\"blue\"},\"line_color\":{\"value\":\"blue\"},\"top\":{\"field\":\"top\"},\"width\":{\"value\":0.7},\"x\":{\"field\":\"index\"}},\"id\":\"12512\",\"type\":\"VBar\"},{\"attributes\":{\"coordinates\":null,\"group\":null,\"text\":\"CNRM-ESM2-1 Return Values for 1-in-10-year Event\",\"text_color\":\"black\",\"text_font_size\":\"12pt\"},\"id\":\"12441\",\"type\":\"Title\"},{\"attributes\":{\"coordinates\":null,\"data_source\":{\"id\":\"12476\"},\"glyph\":{\"id\":\"12478\"},\"group\":null,\"hover_glyph\":null,\"muted_glyph\":{\"id\":\"12480\"},\"nonselection_glyph\":{\"id\":\"12479\"},\"selection_glyph\":{\"id\":\"12483\"},\"view\":{\"id\":\"12482\"}},\"id\":\"12481\",\"type\":\"GlyphRenderer\"},{\"attributes\":{\"line_alpha\":{\"value\":0.1},\"x0\":{\"field\":\"x0\"},\"x1\":{\"field\":\"x1\"},\"y0\":{\"field\":\"y0\"},\"y1\":{\"field\":\"y1\"}},\"id\":\"12495\",\"type\":\"Segment\"},{\"attributes\":{\"line_alpha\":{\"value\":1.0},\"line_cap\":{\"value\":\"butt\"},\"line_color\":{\"value\":\"black\"},\"line_dash\":{\"value\":[]},\"line_dash_offset\":{\"value\":0},\"line_join\":{\"value\":\"bevel\"},\"line_width\":{\"value\":1},\"x0\":{\"field\":\"x0\"},\"x1\":{\"field\":\"x1\"},\"y0\":{\"field\":\"y0\"},\"y1\":{\"field\":\"y1\"}},\"id\":\"12491\",\"type\":\"Segment\"},{\"attributes\":{\"line_alpha\":{\"value\":0.1},\"x0\":{\"field\":\"x0\"},\"x1\":{\"field\":\"x1\"},\"y0\":{\"field\":\"y0\"},\"y1\":{\"field\":\"y1\"}},\"id\":\"12479\",\"type\":\"Segment\"},{\"attributes\":{\"factors\":[\"Historical 1980-99\",\"SSP3-7.0 2020-39\",\"SSP3-7.0 2040-59\",\"SSP3-7.0 2060-79\",\"SSP3-7.0 2080-99\"],\"tags\":[[[\"Climate Models\",\"Climate Models\",null]]]},\"id\":\"12438\",\"type\":\"FactorRange\"},{\"attributes\":{\"data\":{\"bottom\":{\"__ndarray__\":\"FJZ4QNmURED7IqEt545FQMb5m1CIpEVA2UKQgxI6RkAaho+IKflGQA==\",\"dtype\":\"float64\",\"order\":\"little\",\"shape\":[5]},\"index\":[\"Historical 1980-99\",\"SSP3-7.0 2020-39\",\"SSP3-7.0 2040-59\",\"SSP3-7.0 2060-79\",\"SSP3-7.0 2080-99\"],\"top\":{\"__ndarray__\":\"/wQXK2rYQkCUwVHy6thDQCk/qfbp8ENAlWBxOPOTRECx+bg2VFBFQA==\",\"dtype\":\"float64\",\"order\":\"little\",\"shape\":[5]}},\"selected\":{\"id\":\"12534\"},\"selection_policy\":{\"id\":\"12533\"}},\"id\":\"12508\",\"type\":\"ColumnDataSource\"},{\"attributes\":{\"coordinates\":null,\"data_source\":{\"id\":\"12500\"},\"glyph\":{\"id\":\"12502\"},\"group\":null,\"hover_glyph\":null,\"muted_glyph\":{\"id\":\"12504\"},\"nonselection_glyph\":{\"id\":\"12503\"},\"selection_glyph\":{\"id\":\"12507\"},\"view\":{\"id\":\"12506\"}},\"id\":\"12505\",\"type\":\"GlyphRenderer\"},{\"attributes\":{\"fill_alpha\":{\"value\":0.2},\"fill_color\":{\"value\":\"black\"},\"hatch_alpha\":{\"value\":0.2},\"line_alpha\":{\"value\":0.2},\"x\":{\"field\":\"index\"},\"y\":{\"field\":\"Return_Values_left_parenthesis_Degrees_C_right_parenthesis\"}},\"id\":\"12472\",\"type\":\"Circle\"},{\"attributes\":{},\"id\":\"12529\",\"type\":\"UnionRenderers\"},{\"attributes\":{\"bottom\":{\"field\":\"bottom\"},\"fill_color\":{\"value\":\"orange\"},\"top\":{\"field\":\"top\"},\"width\":{\"value\":0.7},\"x\":{\"field\":\"index\"}},\"id\":\"12510\",\"type\":\"VBar\"},{\"attributes\":{},\"id\":\"12573\",\"type\":\"UnionRenderers\"},{\"attributes\":{\"data\":{\"x0\":[\"Historical 1980-99\",\"SSP3-7.0 2020-39\",\"SSP3-7.0 2040-59\",\"SSP3-7.0 2060-79\",\"SSP3-7.0 2080-99\"],\"x1\":[\"Historical 1980-99\",\"SSP3-7.0 2020-39\",\"SSP3-7.0 2040-59\",\"SSP3-7.0 2060-79\",\"SSP3-7.0 2080-99\"],\"y0\":{\"__ndarray__\":\"9P3UeOneR0AbEvdY+tRIQI/k8h/SU0lAMzMzMzOPSUBfe2ZJgKJKQA==\",\"dtype\":\"float64\",\"order\":\"little\",\"shape\":[5]},\"y1\":{\"__ndarray__\":\"FJZ4QNmURED7IqEt545FQMb5m1CIpEVA2UKQgxI6RkAaho+IKflGQA==\",\"dtype\":\"float64\",\"order\":\"little\",\"shape\":[5]}},\"selected\":{\"id\":\"12526\"},\"selection_policy\":{\"id\":\"12525\"}},\"id\":\"12476\",\"type\":\"ColumnDataSource\"},{\"attributes\":{\"fill_color\":{\"value\":\"black\"},\"x\":{\"field\":\"index\"},\"y\":{\"field\":\"Return_Values_left_parenthesis_Degrees_C_right_parenthesis\"}},\"id\":\"12470\",\"type\":\"Circle\"},{\"attributes\":{},\"id\":\"12532\",\"type\":\"Selection\"},{\"attributes\":{\"below\":[{\"id\":\"12449\"}],\"center\":[{\"id\":\"12451\"},{\"id\":\"12455\"},{\"id\":\"12536\"}],\"height\":400,\"left\":[{\"id\":\"12452\"}],\"margin\":[5,5,5,5],\"min_border_bottom\":10,\"min_border_left\":10,\"min_border_right\":10,\"min_border_top\":10,\"renderers\":[{\"id\":\"12473\"},{\"id\":\"12481\"},{\"id\":\"12489\"},{\"id\":\"12497\"},{\"id\":\"12505\"},{\"id\":\"12514\"},{\"id\":\"12545\"}],\"sizing_mode\":\"fixed\",\"title\":{\"id\":\"12441\"},\"toolbar\":{\"id\":\"12462\"},\"width\":650,\"x_range\":{\"id\":\"12438\"},\"x_scale\":{\"id\":\"12445\"},\"y_range\":{\"id\":\"12439\"},\"y_scale\":{\"id\":\"12447\"}},\"id\":\"12440\",\"subtype\":\"Figure\",\"type\":\"Plot\"},{\"attributes\":{\"axis_label\":\"Climate Models\",\"coordinates\":null,\"formatter\":{\"id\":\"12521\"},\"group\":null,\"major_label_policy\":{\"id\":\"12522\"},\"ticker\":{\"id\":\"12450\"}},\"id\":\"12449\",\"type\":\"CategoricalAxis\"},{\"attributes\":{\"data\":{\"x0\":[[\"Historical 1980-99\",-0.2],[\"SSP3-7.0 2020-39\",-0.2],[\"SSP3-7.0 2040-59\",-0.2],[\"SSP3-7.0 2060-79\",-0.2],[\"SSP3-7.0 2080-99\",-0.2]],\"x1\":[[\"Historical 1980-99\",0.2],[\"SSP3-7.0 2020-39\",0.2],[\"SSP3-7.0 2040-59\",0.2],[\"SSP3-7.0 2060-79\",0.2],[\"SSP3-7.0 2080-99\",0.2]],\"y0\":[47.7415,49.66389,50.65485,51.11875,53.26954],\"y1\":[47.7415,49.66389,50.65485,51.11875,53.26954]},\"selected\":{\"id\":\"12532\"},\"selection_policy\":{\"id\":\"12531\"}},\"id\":\"12500\",\"type\":\"ColumnDataSource\"},{\"attributes\":{\"children\":[{\"id\":\"12437\"},{\"id\":\"12440\"},{\"id\":\"12598\"}],\"margin\":[0,0,0,0],\"name\":\"Row18189\",\"tags\":[\"embedded\"]},\"id\":\"12436\",\"type\":\"Row\"},{\"attributes\":{\"source\":{\"id\":\"12484\"}},\"id\":\"12490\",\"type\":\"CDSView\"},{\"attributes\":{},\"id\":\"12527\",\"type\":\"UnionRenderers\"},{\"attributes\":{},\"id\":\"12518\",\"type\":\"BasicTickFormatter\"},{\"attributes\":{\"coordinates\":null,\"data_source\":{\"id\":\"12508\"},\"glyph\":{\"id\":\"12510\"},\"group\":null,\"hover_glyph\":{\"id\":\"12512\"},\"muted_glyph\":{\"id\":\"12513\"},\"nonselection_glyph\":{\"id\":\"12511\"},\"selection_glyph\":{\"id\":\"12538\"},\"view\":{\"id\":\"12515\"}},\"id\":\"12514\",\"type\":\"GlyphRenderer\"},{\"attributes\":{\"coordinates\":null,\"data_source\":{\"id\":\"12492\"},\"glyph\":{\"id\":\"12494\"},\"group\":null,\"hover_glyph\":null,\"muted_glyph\":{\"id\":\"12496\"},\"nonselection_glyph\":{\"id\":\"12495\"},\"selection_glyph\":{\"id\":\"12499\"},\"view\":{\"id\":\"12498\"}},\"id\":\"12497\",\"type\":\"GlyphRenderer\"},{\"attributes\":{\"fill_alpha\":{\"value\":0.1},\"fill_color\":{\"value\":\"black\"},\"hatch_alpha\":{\"value\":0.1},\"line_alpha\":{\"value\":0.1},\"x\":{\"field\":\"index\"},\"y\":{\"field\":\"Return_Values_left_parenthesis_Degrees_C_right_parenthesis\"}},\"id\":\"12471\",\"type\":\"Circle\"},{\"attributes\":{},\"id\":\"12447\",\"type\":\"LinearScale\"},{\"attributes\":{},\"id\":\"12533\",\"type\":\"UnionRenderers\"},{\"attributes\":{\"data\":{\"x0\":[[\"Historical 1980-99\",-0.2],[\"SSP3-7.0 2020-39\",-0.2],[\"SSP3-7.0 2040-59\",-0.2],[\"SSP3-7.0 2060-79\",-0.2],[\"SSP3-7.0 2080-99\",-0.2]],\"x1\":[[\"Historical 1980-99\",0.2],[\"SSP3-7.0 2020-39\",0.2],[\"SSP3-7.0 2040-59\",0.2],[\"SSP3-7.0 2060-79\",0.2],[\"SSP3-7.0 2080-99\",0.2]],\"y0\":[20.61994,22.84637,23.82064,25.77963,27.22144],\"y1\":[20.61994,22.84637,23.82064,25.77963,27.22144]},\"selected\":{\"id\":\"12530\"},\"selection_policy\":{\"id\":\"12529\"}},\"id\":\"12492\",\"type\":\"ColumnDataSource\"},{\"attributes\":{\"bottom\":{\"field\":\"bottom\"},\"fill_alpha\":{\"value\":1.0},\"fill_color\":{\"value\":\"orange\"},\"hatch_alpha\":{\"value\":1.0},\"hatch_color\":{\"value\":\"black\"},\"hatch_scale\":{\"value\":12.0},\"hatch_weight\":{\"value\":1.0},\"line_alpha\":{\"value\":1.0},\"line_cap\":{\"value\":\"butt\"},\"line_color\":{\"value\":\"black\"},\"line_dash\":{\"value\":[]},\"line_dash_offset\":{\"value\":0},\"line_join\":{\"value\":\"bevel\"},\"line_width\":{\"value\":1},\"top\":{\"field\":\"top\"},\"width\":{\"value\":0.7},\"x\":{\"field\":\"index\"}},\"id\":\"12547\",\"type\":\"VBar\"},{\"attributes\":{\"margin\":[5,5,5,5],\"name\":\"HSpacer18193\",\"sizing_mode\":\"stretch_width\"},\"id\":\"12437\",\"type\":\"Spacer\"},{\"attributes\":{},\"id\":\"12574\",\"type\":\"Selection\"},{\"attributes\":{\"tools\":[{\"id\":\"12456\"},{\"id\":\"12457\"},{\"id\":\"12458\"},{\"id\":\"12459\"},{\"id\":\"12460\"}]},\"id\":\"12462\",\"type\":\"Toolbar\"},{\"attributes\":{\"bottom\":{\"field\":\"bottom\"},\"fill_alpha\":{\"value\":1.0},\"fill_color\":{\"value\":\"orange\"},\"hatch_alpha\":{\"value\":1.0},\"hatch_color\":{\"value\":\"black\"},\"hatch_scale\":{\"value\":12.0},\"hatch_weight\":{\"value\":1.0},\"line_alpha\":{\"value\":1.0},\"line_cap\":{\"value\":\"butt\"},\"line_color\":{\"value\":\"black\"},\"line_dash\":{\"value\":[]},\"line_dash_offset\":{\"value\":0},\"line_join\":{\"value\":\"bevel\"},\"line_width\":{\"value\":1},\"top\":{\"field\":\"top\"},\"width\":{\"value\":0.7},\"x\":{\"field\":\"index\"}},\"id\":\"12538\",\"type\":\"VBar\"},{\"attributes\":{\"bottom\":{\"field\":\"bottom\"},\"fill_color\":{\"value\":\"blue\"},\"hatch_color\":{\"value\":\"blue\"},\"line_color\":{\"value\":\"blue\"},\"top\":{\"field\":\"top\"},\"width\":{\"value\":0.7},\"x\":{\"field\":\"index\"}},\"id\":\"12543\",\"type\":\"VBar\"},{\"attributes\":{\"line_alpha\":{\"value\":0.1},\"x0\":{\"field\":\"x0\"},\"x1\":{\"field\":\"x1\"},\"y0\":{\"field\":\"y0\"},\"y1\":{\"field\":\"y1\"}},\"id\":\"12503\",\"type\":\"Segment\"},{\"attributes\":{\"margin\":[5,5,5,5],\"name\":\"HSpacer18194\",\"sizing_mode\":\"stretch_width\"},\"id\":\"12598\",\"type\":\"Spacer\"},{\"attributes\":{\"source\":{\"id\":\"12476\"}},\"id\":\"12482\",\"type\":\"CDSView\"},{\"attributes\":{\"source\":{\"id\":\"12539\"}},\"id\":\"12546\",\"type\":\"CDSView\"},{\"attributes\":{\"bottom\":{\"field\":\"bottom\"},\"fill_alpha\":{\"value\":0.1},\"fill_color\":{\"value\":\"orange\"},\"hatch_alpha\":{\"value\":0.1},\"line_alpha\":{\"value\":0.1},\"top\":{\"field\":\"top\"},\"width\":{\"value\":0.7},\"x\":{\"field\":\"index\"}},\"id\":\"12542\",\"type\":\"VBar\"},{\"attributes\":{},\"id\":\"12531\",\"type\":\"UnionRenderers\"},{\"attributes\":{},\"id\":\"12519\",\"type\":\"AllLabels\"},{\"attributes\":{\"bottom\":{\"field\":\"bottom\"},\"fill_color\":{\"value\":\"orange\"},\"top\":{\"field\":\"top\"},\"width\":{\"value\":0.7},\"x\":{\"field\":\"index\"}},\"id\":\"12541\",\"type\":\"VBar\"},{\"attributes\":{\"axis_label\":\"Return Values (Degrees C)\",\"coordinates\":null,\"formatter\":{\"id\":\"12518\"},\"group\":null,\"major_label_policy\":{\"id\":\"12519\"},\"ticker\":{\"id\":\"12453\"}},\"id\":\"12452\",\"type\":\"LinearAxis\"},{\"attributes\":{\"line_alpha\":{\"value\":0.2},\"x0\":{\"field\":\"x0\"},\"x1\":{\"field\":\"x1\"},\"y0\":{\"field\":\"y0\"},\"y1\":{\"field\":\"y1\"}},\"id\":\"12480\",\"type\":\"Segment\"},{\"attributes\":{\"bottom\":{\"field\":\"bottom\"},\"fill_alpha\":{\"value\":0.2},\"fill_color\":{\"value\":\"orange\"},\"hatch_alpha\":{\"value\":0.2},\"line_alpha\":{\"value\":0.2},\"top\":{\"field\":\"top\"},\"width\":{\"value\":0.7},\"x\":{\"field\":\"index\"}},\"id\":\"12544\",\"type\":\"VBar\"},{\"attributes\":{\"end\":57.375693,\"reset_end\":57.375693,\"reset_start\":8.101856999999999,\"start\":8.101856999999999,\"tags\":[[[\"Return Values (Degrees C)\",\"Return Values (Degrees C)\",null]]]},\"id\":\"12439\",\"type\":\"Range1d\"},{\"attributes\":{\"source\":{\"id\":\"12500\"}},\"id\":\"12506\",\"type\":\"CDSView\"},{\"attributes\":{\"line_alpha\":{\"value\":0.2},\"x0\":{\"field\":\"x0\"},\"x1\":{\"field\":\"x1\"},\"y0\":{\"field\":\"y0\"},\"y1\":{\"field\":\"y1\"}},\"id\":\"12496\",\"type\":\"Segment\"},{\"attributes\":{\"axis\":{\"id\":\"12449\"},\"coordinates\":null,\"grid_line_color\":null,\"group\":null,\"ticker\":null},\"id\":\"12451\",\"type\":\"Grid\"},{\"attributes\":{\"line_alpha\":{\"value\":0.2},\"x0\":{\"field\":\"x0\"},\"x1\":{\"field\":\"x1\"},\"y0\":{\"field\":\"y0\"},\"y1\":{\"field\":\"y1\"}},\"id\":\"12488\",\"type\":\"Segment\"},{\"attributes\":{\"source\":{\"id\":\"12468\"}},\"id\":\"12474\",\"type\":\"CDSView\"},{\"attributes\":{},\"id\":\"12525\",\"type\":\"UnionRenderers\"},{\"attributes\":{\"line_alpha\":{\"value\":0.1},\"x0\":{\"field\":\"x0\"},\"x1\":{\"field\":\"x1\"},\"y0\":{\"field\":\"y0\"},\"y1\":{\"field\":\"y1\"}},\"id\":\"12487\",\"type\":\"Segment\"},{\"attributes\":{\"axis\":{\"id\":\"12452\"},\"coordinates\":null,\"dimension\":1,\"grid_line_color\":null,\"group\":null,\"ticker\":null},\"id\":\"12455\",\"type\":\"Grid\"},{\"attributes\":{\"coordinates\":null,\"group\":null,\"items\":[]},\"id\":\"12536\",\"type\":\"Legend\"},{\"attributes\":{\"bottom\":{\"field\":\"bottom\"},\"fill_alpha\":{\"value\":0.2},\"fill_color\":{\"value\":\"orange\"},\"hatch_alpha\":{\"value\":0.2},\"line_alpha\":{\"value\":0.2},\"top\":{\"field\":\"top\"},\"width\":{\"value\":0.7},\"x\":{\"field\":\"index\"}},\"id\":\"12513\",\"type\":\"VBar\"},{\"attributes\":{\"line_alpha\":{\"value\":0.2},\"x0\":{\"field\":\"x0\"},\"x1\":{\"field\":\"x1\"},\"y0\":{\"field\":\"y0\"},\"y1\":{\"field\":\"y1\"}},\"id\":\"12504\",\"type\":\"Segment\"},{\"attributes\":{},\"id\":\"12530\",\"type\":\"Selection\"},{\"attributes\":{\"source\":{\"id\":\"12508\"}},\"id\":\"12515\",\"type\":\"CDSView\"},{\"attributes\":{\"x0\":{\"field\":\"x0\"},\"x1\":{\"field\":\"x1\"},\"y0\":{\"field\":\"y0\"},\"y1\":{\"field\":\"y1\"}},\"id\":\"12486\",\"type\":\"Segment\"},{\"attributes\":{},\"id\":\"12521\",\"type\":\"CategoricalTickFormatter\"},{\"attributes\":{},\"id\":\"12445\",\"type\":\"CategoricalScale\"},{\"attributes\":{\"x0\":{\"field\":\"x0\"},\"x1\":{\"field\":\"x1\"},\"y0\":{\"field\":\"y0\"},\"y1\":{\"field\":\"y1\"}},\"id\":\"12502\",\"type\":\"Segment\"},{\"attributes\":{},\"id\":\"12460\",\"type\":\"ResetTool\"},{\"attributes\":{\"bottom_units\":\"screen\",\"coordinates\":null,\"fill_alpha\":0.5,\"fill_color\":\"lightgrey\",\"group\":null,\"left_units\":\"screen\",\"level\":\"overlay\",\"line_alpha\":1.0,\"line_color\":\"black\",\"line_dash\":[4,4],\"line_width\":2,\"right_units\":\"screen\",\"syncable\":false,\"top_units\":\"screen\"},\"id\":\"12461\",\"type\":\"BoxAnnotation\"},{\"attributes\":{\"line_alpha\":{\"value\":1.0},\"line_cap\":{\"value\":\"butt\"},\"line_color\":{\"value\":\"black\"},\"line_dash\":{\"value\":[]},\"line_dash_offset\":{\"value\":0},\"line_join\":{\"value\":\"bevel\"},\"line_width\":{\"value\":1},\"x0\":{\"field\":\"x0\"},\"x1\":{\"field\":\"x1\"},\"y0\":{\"field\":\"y0\"},\"y1\":{\"field\":\"y1\"}},\"id\":\"12499\",\"type\":\"Segment\"},{\"attributes\":{},\"id\":\"12523\",\"type\":\"UnionRenderers\"},{\"attributes\":{\"x0\":{\"field\":\"x0\"},\"x1\":{\"field\":\"x1\"},\"y0\":{\"field\":\"y0\"},\"y1\":{\"field\":\"y1\"}},\"id\":\"12478\",\"type\":\"Segment\"},{\"attributes\":{\"data\":{\"Return Values (Degrees C)\":{\"__ndarray__\":\"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\",\"dtype\":\"float64\",\"order\":\"little\",\"shape\":[371]},\"Return_Values_left_parenthesis_Degrees_C_right_parenthesis\":{\"__ndarray__\":\"\",\"dtype\":\"float64\",\"order\":\"little\",\"shape\":[0]},\"index\":[\"Historical 1980-99\",\"Historical 1980-99\",\"Historical 1980-99\",\"Historical 1980-99\",\"Historical 1980-99\",\"Historical 1980-99\",\"Historical 1980-99\",\"Historical 1980-99\",\"Historical 1980-99\",\"Historical 1980-99\",\"Historical 1980-99\",\"Historical 1980-99\",\"Historical 1980-99\",\"Historical 1980-99\",\"Historical 1980-99\",\"Historical 1980-99\",\"Historical 1980-99\",\"Historical 1980-99\",\"Historical 1980-99\",\"Historical 1980-99\",\"Historical 1980-99\",\"Historical 1980-99\",\"Historical 1980-99\",\"Historical 1980-99\",\"Historical 1980-99\",\"Historical 1980-99\",\"Historical 1980-99\",\"Historical 1980-99\",\"Historical 1980-99\",\"Historical 1980-99\",\"Historical 1980-99\",\"Historical 1980-99\",\"Historical 1980-99\",\"Historical 1980-99\",\"Historical 1980-99\",\"Historical 1980-99\",\"Historical 1980-99\",\"Historical 1980-99\",\"Historical 1980-99\",\"Historical 1980-99\",\"Historical 1980-99\",\"Historical 1980-99\",\"Historical 1980-99\",\"Historical 1980-99\",\"Historical 1980-99\",\"Historical 1980-99\",\"Historical 1980-99\",\"Historical 1980-99\",\"Historical 1980-99\",\"Historical 1980-99\",\"Historical 1980-99\",\"Historical 1980-99\",\"Historical 1980-99\",\"Historical 1980-99\",\"Historical 1980-99\",\"Historical 1980-99\",\"Historical 1980-99\",\"Historical 1980-99\",\"Historical 1980-99\",\"Historical 1980-99\",\"Historical 1980-99\",\"Historical 1980-99\",\"Historical 1980-99\",\"Historical 1980-99\",\"Historical 1980-99\",\"SSP3-7.0 2020-39\",\"SSP3-7.0 2020-39\",\"SSP3-7.0 2020-39\",\"SSP3-7.0 2020-39\",\"SSP3-7.0 2020-39\",\"SSP3-7.0 2020-39\",\"SSP3-7.0 2020-39\",\"SSP3-7.0 2020-39\",\"SSP3-7.0 2020-39\",\"SSP3-7.0 2020-39\",\"SSP3-7.0 2020-39\",\"SSP3-7.0 2020-39\",\"SSP3-7.0 2020-39\",\"SSP3-7.0 2020-39\",\"SSP3-7.0 2020-39\",\"SSP3-7.0 2020-39\",\"SSP3-7.0 2020-39\",\"SSP3-7.0 2020-39\",\"SSP3-7.0 2020-39\",\"SSP3-7.0 2020-39\",\"SSP3-7.0 2020-39\",\"SSP3-7.0 2020-39\",\"SSP3-7.0 2020-39\",\"SSP3-7.0 2020-39\",\"SSP3-7.0 2020-39\",\"SSP3-7.0 2020-39\",\"SSP3-7.0 2020-39\",\"SSP3-7.0 2020-39\",\"SSP3-7.0 2020-39\",\"SSP3-7.0 2020-39\",\"SSP3-7.0 2020-39\",\"SSP3-7.0 2020-39\",\"SSP3-7.0 2020-39\",\"SSP3-7.0 2020-39\",\"SSP3-7.0 2020-39\",\"SSP3-7.0 2020-39\",\"SSP3-7.0 2020-39\",\"SSP3-7.0 2020-39\",\"SSP3-7.0 2020-39\",\"SSP3-7.0 2020-39\",\"SSP3-7.0 2020-39\",\"SSP3-7.0 2020-39\",\"SSP3-7.0 2020-39\",\"SSP3-7.0 2020-39\",\"SSP3-7.0 2020-39\",\"SSP3-7.0 2020-39\",\"SSP3-7.0 2020-39\",\"SSP3-7.0 2020-39\",\"SSP3-7.0 2020-39\",\"SSP3-7.0 2020-39\",\"SSP3-7.0 2020-39\",\"SSP3-7.0 2020-39\",\"SSP3-7.0 2020-39\",\"SSP3-7.0 2020-39\",\"SSP3-7.0 2020-39\",\"SSP3-7.0 2020-39\",\"SSP3-7.0 2020-39\",\"SSP3-7.0 2020-39\",\"SSP3-7.0 2020-39\",\"SSP3-7.0 2020-39\",\"SSP3-7.0 2020-39\",\"SSP3-7.0 2020-39\",\"SSP3-7.0 2020-39\",\"SSP3-7.0 2020-39\",\"SSP3-7.0 2020-39\",\"SSP3-7.0 2020-39\",\"SSP3-7.0 2020-39\",\"SSP3-7.0 2020-39\",\"SSP3-7.0 2020-39\",\"SSP3-7.0 2020-39\",\"SSP3-7.0 2040-59\",\"SSP3-7.0 2040-59\",\"SSP3-7.0 2040-59\",\"SSP3-7.0 2040-59\",\"SSP3-7.0 2040-59\",\"SSP3-7.0 2040-59\",\"SSP3-7.0 2040-59\",\"SSP3-7.0 2040-59\",\"SSP3-7.0 2040-59\",\"SSP3-7.0 2040-59\",\"SSP3-7.0 2040-59\",\"SSP3-7.0 2040-59\",\"SSP3-7.0 2040-59\",\"SSP3-7.0 2040-59\",\"SSP3-7.0 2040-59\",\"SSP3-7.0 2040-59\",\"SSP3-7.0 2040-59\",\"SSP3-7.0 2040-59\",\"SSP3-7.0 2040-59\",\"SSP3-7.0 2040-59\",\"SSP3-7.0 2040-59\",\"SSP3-7.0 2040-59\",\"SSP3-7.0 2040-59\",\"SSP3-7.0 2040-59\",\"SSP3-7.0 2040-59\",\"SSP3-7.0 2040-59\",\"SSP3-7.0 2040-59\",\"SSP3-7.0 2040-59\",\"SSP3-7.0 2040-59\",\"SSP3-7.0 2040-59\",\"SSP3-7.0 2040-59\",\"SSP3-7.0 2040-59\",\"SSP3-7.0 2040-59\",\"SSP3-7.0 2040-59\",\"SSP3-7.0 2040-59\",\"SSP3-7.0 2040-59\",\"SSP3-7.0 2040-59\",\"SSP3-7.0 2040-59\",\"SSP3-7.0 2040-59\",\"SSP3-7.0 2040-59\",\"SSP3-7.0 2040-59\",\"SSP3-7.0 2040-59\",\"SSP3-7.0 2040-59\",\"SSP3-7.0 2040-59\",\"SSP3-7.0 2040-59\",\"SSP3-7.0 2040-59\",\"SSP3-7.0 2040-59\",\"SSP3-7.0 2040-59\",\"SSP3-7.0 2040-59\",\"SSP3-7.0 2040-59\",\"SSP3-7.0 2040-59\",\"SSP3-7.0 2040-59\",\"SSP3-7.0 2040-59\",\"SSP3-7.0 2040-59\",\"SSP3-7.0 2040-59\",\"SSP3-7.0 2040-59\",\"SSP3-7.0 2040-59\",\"SSP3-7.0 2040-59\",\"SSP3-7.0 2040-59\",\"SSP3-7.0 2040-59\",\"SSP3-7.0 2040-59\",\"SSP3-7.0 2040-59\",\"SSP3-7.0 2040-59\",\"SSP3-7.0 2040-59\",\"SSP3-7.0 2040-59\",\"SSP3-7.0 2040-59\",\"SSP3-7.0 2040-59\",\"SSP3-7.0 2040-59\",\"SSP3-7.0 2040-59\",\"SSP3-7.0 2040-59\",\"SSP3-7.0 2060-79\",\"SSP3-7.0 2060-79\",\"SSP3-7.0 2060-79\",\"SSP3-7.0 2060-79\",\"SSP3-7.0 2060-79\",\"SSP3-7.0 2060-79\",\"SSP3-7.0 2060-79\",\"SSP3-7.0 2060-79\",\"SSP3-7.0 2060-79\",\"SSP3-7.0 2060-79\",\"SSP3-7.0 2060-79\",\"SSP3-7.0 2060-79\",\"SSP3-7.0 2060-79\",\"SSP3-7.0 2060-79\",\"SSP3-7.0 2060-79\",\"SSP3-7.0 2060-79\",\"SSP3-7.0 2060-79\",\"SSP3-7.0 2060-79\",\"SSP3-7.0 2060-79\",\"SSP3-7.0 2060-79\",\"SSP3-7.0 2060-79\",\"SSP3-7.0 2060-79\",\"SSP3-7.0 2060-79\",\"SSP3-7.0 2060-79\",\"SSP3-7.0 2060-79\",\"SSP3-7.0 2060-79\",\"SSP3-7.0 2060-79\",\"SSP3-7.0 2060-79\",\"SSP3-7.0 2060-79\",\"SSP3-7.0 2060-79\",\"SSP3-7.0 2060-79\",\"SSP3-7.0 2060-79\",\"SSP3-7.0 2060-79\",\"SSP3-7.0 2060-79\",\"SSP3-7.0 2060-79\",\"SSP3-7.0 2060-79\",\"SSP3-7.0 2060-79\",\"SSP3-7.0 2060-79\",\"SSP3-7.0 2060-79\",\"SSP3-7.0 2060-79\",\"SSP3-7.0 2060-79\",\"SSP3-7.0 2060-79\",\"SSP3-7.0 2060-79\",\"SSP3-7.0 2060-79\",\"SSP3-7.0 2060-79\",\"SSP3-7.0 2060-79\",\"SSP3-7.0 2060-79\",\"SSP3-7.0 2060-79\",\"SSP3-7.0 2060-79\",\"SSP3-7.0 2060-79\",\"SSP3-7.0 2060-79\",\"SSP3-7.0 2060-79\",\"SSP3-7.0 2060-79\",\"SSP3-7.0 2060-79\",\"SSP3-7.0 2060-79\",\"SSP3-7.0 2060-79\",\"SSP3-7.0 2060-79\",\"SSP3-7.0 2060-79\",\"SSP3-7.0 2060-79\",\"SSP3-7.0 2060-79\",\"SSP3-7.0 2060-79\",\"SSP3-7.0 2060-79\",\"SSP3-7.0 2060-79\",\"SSP3-7.0 2060-79\",\"SSP3-7.0 2060-79\",\"SSP3-7.0 2060-79\",\"SSP3-7.0 2060-79\",\"SSP3-7.0 2060-79\",\"SSP3-7.0 2060-79\",\"SSP3-7.0 2060-79\",\"SSP3-7.0 2060-79\",\"SSP3-7.0 2060-79\",\"SSP3-7.0 2060-79\",\"SSP3-7.0 2060-79\",\"SSP3-7.0 2060-79\",\"SSP3-7.0 2060-79\",\"SSP3-7.0 2060-79\",\"SSP3-7.0 2060-79\",\"SSP3-7.0 2060-79\",\"SSP3-7.0 2060-79\",\"SSP3-7.0 2060-79\",\"SSP3-7.0 2060-79\",\"SSP3-7.0 2060-79\",\"SSP3-7.0 2080-99\",\"SSP3-7.0 2080-99\",\"SSP3-7.0 2080-99\",\"SSP3-7.0 2080-99\",\"SSP3-7.0 2080-99\",\"SSP3-7.0 2080-99\",\"SSP3-7.0 2080-99\",\"SSP3-7.0 2080-99\",\"SSP3-7.0 2080-99\",\"SSP3-7.0 2080-99\",\"SSP3-7.0 2080-99\",\"SSP3-7.0 2080-99\",\"SSP3-7.0 2080-99\",\"SSP3-7.0 2080-99\",\"SSP3-7.0 2080-99\",\"SSP3-7.0 2080-99\",\"SSP3-7.0 2080-99\",\"SSP3-7.0 2080-99\",\"SSP3-7.0 2080-99\",\"SSP3-7.0 2080-99\",\"SSP3-7.0 2080-99\",\"SSP3-7.0 2080-99\",\"SSP3-7.0 2080-99\",\"SSP3-7.0 2080-99\",\"SSP3-7.0 2080-99\",\"SSP3-7.0 2080-99\",\"SSP3-7.0 2080-99\",\"SSP3-7.0 2080-99\",\"SSP3-7.0 2080-99\",\"SSP3-7.0 2080-99\",\"SSP3-7.0 2080-99\",\"SSP3-7.0 2080-99\",\"SSP3-7.0 2080-99\",\"SSP3-7.0 2080-99\",\"SSP3-7.0 2080-99\",\"SSP3-7.0 2080-99\",\"SSP3-7.0 2080-99\",\"SSP3-7.0 2080-99\",\"SSP3-7.0 2080-99\",\"SSP3-7.0 2080-99\",\"SSP3-7.0 2080-99\",\"SSP3-7.0 2080-99\",\"SSP3-7.0 2080-99\",\"SSP3-7.0 2080-99\",\"SSP3-7.0 2080-99\",\"SSP3-7.0 2080-99\",\"SSP3-7.0 2080-99\",\"SSP3-7.0 2080-99\",\"SSP3-7.0 2080-99\",\"SSP3-7.0 2080-99\",\"SSP3-7.0 2080-99\",\"SSP3-7.0 2080-99\",\"SSP3-7.0 2080-99\",\"SSP3-7.0 2080-99\",\"SSP3-7.0 2080-99\",\"SSP3-7.0 2080-99\",\"SSP3-7.0 2080-99\",\"SSP3-7.0 2080-99\",\"SSP3-7.0 2080-99\",\"SSP3-7.0 2080-99\",\"SSP3-7.0 2080-99\",\"SSP3-7.0 2080-99\",\"SSP3-7.0 2080-99\",\"SSP3-7.0 2080-99\",\"SSP3-7.0 2080-99\",\"SSP3-7.0 2080-99\",\"SSP3-7.0 2080-99\",\"SSP3-7.0 2080-99\",\"SSP3-7.0 2080-99\",\"SSP3-7.0 2080-99\",\"SSP3-7.0 2080-99\",\"SSP3-7.0 2080-99\",\"SSP3-7.0 2080-99\",\"SSP3-7.0 2080-99\",\"SSP3-7.0 2080-99\",\"SSP3-7.0 2080-99\",\"SSP3-7.0 2080-99\",\"SSP3-7.0 2080-99\",\"SSP3-7.0 2080-99\",\"SSP3-7.0 2080-99\",\"SSP3-7.0 2080-99\",\"SSP3-7.0 2080-99\",\"SSP3-7.0 2080-99\"]},\"selected\":{\"id\":\"12524\"},\"selection_policy\":{\"id\":\"12523\"}},\"id\":\"12468\",\"type\":\"ColumnDataSource\"},{\"attributes\":{\"source\":{\"id\":\"12492\"}},\"id\":\"12498\",\"type\":\"CDSView\"},{\"attributes\":{\"coordinates\":null,\"data_source\":{\"id\":\"12539\"},\"glyph\":{\"id\":\"12541\"},\"group\":null,\"hover_glyph\":{\"id\":\"12543\"},\"muted_glyph\":{\"id\":\"12544\"},\"nonselection_glyph\":{\"id\":\"12542\"},\"selection_glyph\":{\"id\":\"12547\"},\"view\":{\"id\":\"12546\"}},\"id\":\"12545\",\"type\":\"GlyphRenderer\"},{\"attributes\":{},\"id\":\"12522\",\"type\":\"AllLabels\"},{\"attributes\":{},\"id\":\"12457\",\"type\":\"PanTool\"},{\"attributes\":{\"line_alpha\":{\"value\":1.0},\"line_cap\":{\"value\":\"butt\"},\"line_color\":{\"value\":\"black\"},\"line_dash\":{\"value\":[]},\"line_dash_offset\":{\"value\":0},\"line_join\":{\"value\":\"bevel\"},\"line_width\":{\"value\":1},\"x0\":{\"field\":\"x0\"},\"x1\":{\"field\":\"x1\"},\"y0\":{\"field\":\"y0\"},\"y1\":{\"field\":\"y1\"}},\"id\":\"12483\",\"type\":\"Segment\"},{\"attributes\":{},\"id\":\"12453\",\"type\":\"BasicTicker\"},{\"attributes\":{},\"id\":\"12456\",\"type\":\"SaveTool\"},{\"attributes\":{},\"id\":\"12526\",\"type\":\"Selection\"},{\"attributes\":{},\"id\":\"12458\",\"type\":\"WheelZoomTool\"},{\"attributes\":{},\"id\":\"12528\",\"type\":\"Selection\"},{\"attributes\":{\"overlay\":{\"id\":\"12461\"}},\"id\":\"12459\",\"type\":\"BoxZoomTool\"},{\"attributes\":{},\"id\":\"12534\",\"type\":\"Selection\"},{\"attributes\":{\"data\":{\"bottom\":{\"__ndarray__\":\"/wQXK2rYQkCUwVHy6thDQCk/qfbp8ENAlWBxOPOTRECx+bg2VFBFQA==\",\"dtype\":\"float64\",\"order\":\"little\",\"shape\":[5]},\"index\":[\"Historical 1980-99\",\"SSP3-7.0 2020-39\",\"SSP3-7.0 2040-59\",\"SSP3-7.0 2060-79\",\"SSP3-7.0 2080-99\"],\"top\":{\"__ndarray__\":\"rir7rgh2QECDo+TVOX5BQLzLRXwnvkFATaHzGrt8QkCZEkn0MjpDQA==\",\"dtype\":\"float64\",\"order\":\"little\",\"shape\":[5]}},\"selected\":{\"id\":\"12574\"},\"selection_policy\":{\"id\":\"12573\"}},\"id\":\"12539\",\"type\":\"ColumnDataSource\"},{\"attributes\":{\"line_alpha\":{\"value\":1.0},\"line_cap\":{\"value\":\"butt\"},\"line_color\":{\"value\":\"black\"},\"line_dash\":{\"value\":[]},\"line_dash_offset\":{\"value\":0},\"line_join\":{\"value\":\"bevel\"},\"line_width\":{\"value\":1},\"x0\":{\"field\":\"x0\"},\"x1\":{\"field\":\"x1\"},\"y0\":{\"field\":\"y0\"},\"y1\":{\"field\":\"y1\"}},\"id\":\"12507\",\"type\":\"Segment\"},{\"attributes\":{},\"id\":\"12524\",\"type\":\"Selection\"}],\"root_ids\":[\"12436\"]},\"title\":\"Bokeh Application\",\"version\":\"2.4.2\"}};\n",
       "    var render_items = [{\"docid\":\"654204b6-58ac-4b55-b44b-8e456eded888\",\"root_ids\":[\"12436\"],\"roots\":{\"12436\":\"7b5411b1-e921-4d0e-854a-bf890a0f004e\"}}];\n",
       "    root.Bokeh.embed.embed_items_notebook(docs_json, render_items);\n",
       "  }\n",
       "  if (root.Bokeh !== undefined && root.Bokeh.Panel !== undefined) {\n",
       "    embed_document(root);\n",
       "  } else {\n",
       "    var attempts = 0;\n",
       "    var timer = setInterval(function(root) {\n",
       "      if (root.Bokeh !== undefined && root.Bokeh.Panel !== undefined) {\n",
       "        clearInterval(timer);\n",
       "        embed_document(root);\n",
       "      } else if (document.readyState == \"complete\") {\n",
       "        attempts++;\n",
       "        if (attempts > 200) {\n",
       "          clearInterval(timer);\n",
       "          console.log(\"Bokeh: ERROR: Unable to run BokehJS code because BokehJS library is missing\");\n",
       "        }\n",
       "      }\n",
       "    }, 25, root)\n",
       "  }\n",
       "})(window);</script>"
      ],
      "text/plain": [
       ":BoxWhisker   [Climate Models]   (Return Values (Degrees C))"
      ]
     },
     "execution_count": 123,
     "metadata": {
      "application/vnd.holoviews_exec.v0+json": {
       "id": "12436"
      }
     },
     "output_type": "execute_result"
    }
   ],
   "source": [
    "df = cnrm_rv_df.rename(columns={'cnrm_hist_1980':'Historical 1980-99', \n",
    "                                'cnrm_ssp370_2020':'SSP3-7.0 2020-39', \n",
    "                                'cnrm_ssp370_2040':'SSP3-7.0 2040-59',\n",
    "                                'cnrm_ssp370_2060':'SSP3-7.0 2060-79',\n",
    "                                'cnrm_ssp370_2080':'SSP3-7.0 2080-99'})\n",
    "\n",
    "title = 'CNRM-ESM2-1 Return Values for 1-in-10-year Event'\n",
    "\n",
    "cnrm_box_plot = df.hvplot.box(y=columns,\n",
    "                              width=width,\n",
    "                              height=height,\n",
    "                              title=title,\n",
    "                              box_fill_color=box_fill_color,\n",
    "                              box_hover_color=box_hover_color,\n",
    "                              group_label=group_label,\n",
    "                              value_label=value_label)\n",
    "cnrm_box_plot"
   ]
  },
  {
   "cell_type": "markdown",
   "id": "2d17ceeb-79d7-435b-86dd-a0f7260c0e89",
   "metadata": {},
   "source": [
    "## Step 4: Export Percent Change Visualizations"
   ]
  },
  {
   "cell_type": "code",
   "execution_count": 124,
   "id": "825d6c56-b854-4bad-9fe4-e62cd229f25f",
   "metadata": {},
   "outputs": [],
   "source": [
    "export_stat_image_path = './images/static/return_value'"
   ]
  },
  {
   "cell_type": "code",
   "execution_count": 125,
   "id": "bf7ea4e5-defa-48ee-a5d5-a03784efbf41",
   "metadata": {},
   "outputs": [],
   "source": [
    "# define function to export visualizations as static svg files\n",
    "\n",
    "def export_svg(obj, filename):\n",
    "    plot_state = hv.renderer('bokeh').get_plot(obj).state\n",
    "    plot_state.output_backend = 'svg'\n",
    "    export_svgs(plot_state, filename=filename)"
   ]
  },
  {
   "cell_type": "code",
   "execution_count": 126,
   "id": "7463b1cf-81ea-42bb-adf7-43768c979112",
   "metadata": {},
   "outputs": [
    {
     "name": "stderr",
     "output_type": "stream",
     "text": [
      "BokehUserWarning: ColumnDataSource's columns must be of the same length. Current lengths: ('Return Values (Degrees C)', 364), ('Return_Values_left_parenthesis_Degrees_C_right_parenthesis', 0), ('index', 364)\n",
      "BokehUserWarning: ColumnDataSource's columns must be of the same length. Current lengths: ('Return Values (Degrees C)', 371), ('Return_Values_left_parenthesis_Degrees_C_right_parenthesis', 0), ('index', 371)\n"
     ]
    }
   ],
   "source": [
    "# export visualizations as static svg images\n",
    "\n",
    "export_svg(cesm2_box_plot, f'{export_stat_image_path}/cesm2_box_plot.svg')\n",
    "export_svg(cnrm_box_plot, f'{export_stat_image_path}/cnrm_box_plot.svg')"
   ]
  },
  {
   "cell_type": "code",
   "execution_count": null,
   "id": "ed36921f-de59-459a-8bce-250024f18d3b",
   "metadata": {},
   "outputs": [],
   "source": []
  }
 ],
 "metadata": {
  "kernelspec": {
   "display_name": "Python 3 (ipykernel)",
   "language": "python",
   "name": "python3"
  },
  "language_info": {
   "codemirror_mode": {
    "name": "ipython",
    "version": 3
   },
   "file_extension": ".py",
   "mimetype": "text/x-python",
   "name": "python",
   "nbconvert_exporter": "python",
   "pygments_lexer": "ipython3",
   "version": "3.9.10"
  }
 },
 "nbformat": 4,
 "nbformat_minor": 5
}
